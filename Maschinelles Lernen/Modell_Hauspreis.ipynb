{
 "cells": [
  {
   "cell_type": "code",
   "execution_count": 1,
   "id": "d51bd40e",
   "metadata": {},
   "outputs": [],
   "source": [
    "import pandas as pd\n",
    "import numpy as np\n",
    "import seaborn as sns\n",
    "import matplotlib.pyplot as plt\n",
    "import sklearn"
   ]
  },
  {
   "cell_type": "markdown",
   "id": "755b27ad",
   "metadata": {},
   "source": [
    "# Aufgabe 3)\n",
    "\n",
    "Lösen Sie die folgende Programmieraufgabe in der Programmiersprache Python. Reichen Sie ein vollständiges Jupyter Notebook ein mit dem Dateinamen „web78_aufgabe_3.ipynb“ ab. \n",
    "Die Ausgangssituation ist der Datensatz aus https://www.kaggle.com/c/zillow-prize-1/data. Sie finden den Datensatz im Akad Online Bereich „housedata.csv“. Das Ziel ist es mit Hilfe eines Klassifikationsalgorithmus die Zielvariable „AboveMedianPrice“ mit Hilfe der anderen Merkmale vorherzusagen. \n",
    "Die Zielvariable sagt aus, dass aufgrund verschiedener Merkmale eines Hauses wie die „Qualität“ (OverallQual), „Zustand“ (OverallCond), „Größe“ (TotalBsmtSf – Total Basement Square Feet) etc. der Hauspreis entweder über oder unter dem Median liegt. "
   ]
  },
  {
   "cell_type": "code",
   "execution_count": 2,
   "id": "b86a540b",
   "metadata": {},
   "outputs": [
    {
     "data": {
      "text/plain": [
       "Index(['LotArea', 'OverallQual', 'OverallCond', 'TotalBsmtSF', 'FullBath',\n",
       "       'HalfBath', 'BedroomAbvGr', 'TotRmsAbvGrd', 'Fireplaces', 'GarageArea',\n",
       "       'AboveMedianPrice'],\n",
       "      dtype='object')"
      ]
     },
     "execution_count": 2,
     "metadata": {},
     "output_type": "execute_result"
    }
   ],
   "source": [
    "df = pd.read_csv(\"housedata.csv\")\n",
    "df.columns"
   ]
  },
  {
   "cell_type": "markdown",
   "id": "15b85e46",
   "metadata": {},
   "source": [
    "- LotArea: Größe des Grundstücks\n",
    "- OverallQual: Qualität\n",
    "- OverallCond: Zustand\n",
    "- FullBath: Anzahl Badezimmer\n",
    "- TotalBsmtSF: Größe des Kellers in m²\n",
    "- HalfBath: Anzahl GästeWCs\n",
    "- BedroomAbvGr: Anzahl Schlafzimmer\n",
    "- TotRmsAbvGrd: Anzahl Zimmer insgesamt\n",
    "- Fireplaces: Anzahl Kamine\n",
    "- GarageArea: Größe der Garage\n",
    "- AboveMedianPrice: Binär"
   ]
  },
  {
   "cell_type": "code",
   "execution_count": 3,
   "id": "2fce609b",
   "metadata": {},
   "outputs": [
    {
     "data": {
      "text/html": [
       "<div>\n",
       "<style scoped>\n",
       "    .dataframe tbody tr th:only-of-type {\n",
       "        vertical-align: middle;\n",
       "    }\n",
       "\n",
       "    .dataframe tbody tr th {\n",
       "        vertical-align: top;\n",
       "    }\n",
       "\n",
       "    .dataframe thead th {\n",
       "        text-align: right;\n",
       "    }\n",
       "</style>\n",
       "<table border=\"1\" class=\"dataframe\">\n",
       "  <thead>\n",
       "    <tr style=\"text-align: right;\">\n",
       "      <th></th>\n",
       "      <th>LotArea</th>\n",
       "      <th>OverallQual</th>\n",
       "      <th>OverallCond</th>\n",
       "      <th>TotalBsmtSF</th>\n",
       "      <th>FullBath</th>\n",
       "      <th>HalfBath</th>\n",
       "      <th>BedroomAbvGr</th>\n",
       "      <th>TotRmsAbvGrd</th>\n",
       "      <th>Fireplaces</th>\n",
       "      <th>GarageArea</th>\n",
       "      <th>AboveMedianPrice</th>\n",
       "    </tr>\n",
       "  </thead>\n",
       "  <tbody>\n",
       "    <tr>\n",
       "      <th>0</th>\n",
       "      <td>8450</td>\n",
       "      <td>7</td>\n",
       "      <td>5</td>\n",
       "      <td>856</td>\n",
       "      <td>2</td>\n",
       "      <td>1</td>\n",
       "      <td>3</td>\n",
       "      <td>8</td>\n",
       "      <td>0</td>\n",
       "      <td>548</td>\n",
       "      <td>1</td>\n",
       "    </tr>\n",
       "    <tr>\n",
       "      <th>1</th>\n",
       "      <td>9600</td>\n",
       "      <td>6</td>\n",
       "      <td>8</td>\n",
       "      <td>1262</td>\n",
       "      <td>2</td>\n",
       "      <td>0</td>\n",
       "      <td>3</td>\n",
       "      <td>6</td>\n",
       "      <td>1</td>\n",
       "      <td>460</td>\n",
       "      <td>1</td>\n",
       "    </tr>\n",
       "    <tr>\n",
       "      <th>2</th>\n",
       "      <td>11250</td>\n",
       "      <td>7</td>\n",
       "      <td>5</td>\n",
       "      <td>920</td>\n",
       "      <td>2</td>\n",
       "      <td>1</td>\n",
       "      <td>3</td>\n",
       "      <td>6</td>\n",
       "      <td>1</td>\n",
       "      <td>608</td>\n",
       "      <td>1</td>\n",
       "    </tr>\n",
       "    <tr>\n",
       "      <th>3</th>\n",
       "      <td>9550</td>\n",
       "      <td>7</td>\n",
       "      <td>5</td>\n",
       "      <td>756</td>\n",
       "      <td>1</td>\n",
       "      <td>0</td>\n",
       "      <td>3</td>\n",
       "      <td>7</td>\n",
       "      <td>1</td>\n",
       "      <td>642</td>\n",
       "      <td>0</td>\n",
       "    </tr>\n",
       "    <tr>\n",
       "      <th>4</th>\n",
       "      <td>14260</td>\n",
       "      <td>8</td>\n",
       "      <td>5</td>\n",
       "      <td>1145</td>\n",
       "      <td>2</td>\n",
       "      <td>1</td>\n",
       "      <td>4</td>\n",
       "      <td>9</td>\n",
       "      <td>1</td>\n",
       "      <td>836</td>\n",
       "      <td>1</td>\n",
       "    </tr>\n",
       "  </tbody>\n",
       "</table>\n",
       "</div>"
      ],
      "text/plain": [
       "   LotArea  OverallQual  OverallCond  TotalBsmtSF  FullBath  HalfBath  \\\n",
       "0     8450            7            5          856         2         1   \n",
       "1     9600            6            8         1262         2         0   \n",
       "2    11250            7            5          920         2         1   \n",
       "3     9550            7            5          756         1         0   \n",
       "4    14260            8            5         1145         2         1   \n",
       "\n",
       "   BedroomAbvGr  TotRmsAbvGrd  Fireplaces  GarageArea  AboveMedianPrice  \n",
       "0             3             8           0         548                 1  \n",
       "1             3             6           1         460                 1  \n",
       "2             3             6           1         608                 1  \n",
       "3             3             7           1         642                 0  \n",
       "4             4             9           1         836                 1  "
      ]
     },
     "execution_count": 3,
     "metadata": {},
     "output_type": "execute_result"
    }
   ],
   "source": [
    "df.head()"
   ]
  },
  {
   "cell_type": "code",
   "execution_count": 4,
   "id": "188bb4d7",
   "metadata": {},
   "outputs": [
    {
     "name": "stdout",
     "output_type": "stream",
     "text": [
      "<class 'pandas.core.frame.DataFrame'>\n",
      "RangeIndex: 1460 entries, 0 to 1459\n",
      "Data columns (total 11 columns):\n",
      " #   Column            Non-Null Count  Dtype\n",
      "---  ------            --------------  -----\n",
      " 0   LotArea           1460 non-null   int64\n",
      " 1   OverallQual       1460 non-null   int64\n",
      " 2   OverallCond       1460 non-null   int64\n",
      " 3   TotalBsmtSF       1460 non-null   int64\n",
      " 4   FullBath          1460 non-null   int64\n",
      " 5   HalfBath          1460 non-null   int64\n",
      " 6   BedroomAbvGr      1460 non-null   int64\n",
      " 7   TotRmsAbvGrd      1460 non-null   int64\n",
      " 8   Fireplaces        1460 non-null   int64\n",
      " 9   GarageArea        1460 non-null   int64\n",
      " 10  AboveMedianPrice  1460 non-null   int64\n",
      "dtypes: int64(11)\n",
      "memory usage: 125.6 KB\n"
     ]
    }
   ],
   "source": [
    "df.info()"
   ]
  },
  {
   "cell_type": "code",
   "execution_count": 5,
   "id": "8e7b2873",
   "metadata": {},
   "outputs": [
    {
     "data": {
      "text/html": [
       "<div>\n",
       "<style scoped>\n",
       "    .dataframe tbody tr th:only-of-type {\n",
       "        vertical-align: middle;\n",
       "    }\n",
       "\n",
       "    .dataframe tbody tr th {\n",
       "        vertical-align: top;\n",
       "    }\n",
       "\n",
       "    .dataframe thead th {\n",
       "        text-align: right;\n",
       "    }\n",
       "</style>\n",
       "<table border=\"1\" class=\"dataframe\">\n",
       "  <thead>\n",
       "    <tr style=\"text-align: right;\">\n",
       "      <th></th>\n",
       "      <th>LotArea</th>\n",
       "      <th>OverallQual</th>\n",
       "      <th>OverallCond</th>\n",
       "      <th>TotalBsmtSF</th>\n",
       "      <th>FullBath</th>\n",
       "      <th>HalfBath</th>\n",
       "      <th>BedroomAbvGr</th>\n",
       "      <th>TotRmsAbvGrd</th>\n",
       "      <th>Fireplaces</th>\n",
       "      <th>GarageArea</th>\n",
       "      <th>AboveMedianPrice</th>\n",
       "    </tr>\n",
       "  </thead>\n",
       "  <tbody>\n",
       "    <tr>\n",
       "      <th>0</th>\n",
       "      <td>8450</td>\n",
       "      <td>7</td>\n",
       "      <td>5</td>\n",
       "      <td>856</td>\n",
       "      <td>2</td>\n",
       "      <td>1</td>\n",
       "      <td>3</td>\n",
       "      <td>8</td>\n",
       "      <td>0</td>\n",
       "      <td>548</td>\n",
       "      <td>1</td>\n",
       "    </tr>\n",
       "    <tr>\n",
       "      <th>1</th>\n",
       "      <td>9600</td>\n",
       "      <td>6</td>\n",
       "      <td>8</td>\n",
       "      <td>1262</td>\n",
       "      <td>2</td>\n",
       "      <td>0</td>\n",
       "      <td>3</td>\n",
       "      <td>6</td>\n",
       "      <td>1</td>\n",
       "      <td>460</td>\n",
       "      <td>1</td>\n",
       "    </tr>\n",
       "    <tr>\n",
       "      <th>2</th>\n",
       "      <td>11250</td>\n",
       "      <td>7</td>\n",
       "      <td>5</td>\n",
       "      <td>920</td>\n",
       "      <td>2</td>\n",
       "      <td>1</td>\n",
       "      <td>3</td>\n",
       "      <td>6</td>\n",
       "      <td>1</td>\n",
       "      <td>608</td>\n",
       "      <td>1</td>\n",
       "    </tr>\n",
       "    <tr>\n",
       "      <th>3</th>\n",
       "      <td>9550</td>\n",
       "      <td>7</td>\n",
       "      <td>5</td>\n",
       "      <td>756</td>\n",
       "      <td>1</td>\n",
       "      <td>0</td>\n",
       "      <td>3</td>\n",
       "      <td>7</td>\n",
       "      <td>1</td>\n",
       "      <td>642</td>\n",
       "      <td>0</td>\n",
       "    </tr>\n",
       "    <tr>\n",
       "      <th>4</th>\n",
       "      <td>14260</td>\n",
       "      <td>8</td>\n",
       "      <td>5</td>\n",
       "      <td>1145</td>\n",
       "      <td>2</td>\n",
       "      <td>1</td>\n",
       "      <td>4</td>\n",
       "      <td>9</td>\n",
       "      <td>1</td>\n",
       "      <td>836</td>\n",
       "      <td>1</td>\n",
       "    </tr>\n",
       "    <tr>\n",
       "      <th>...</th>\n",
       "      <td>...</td>\n",
       "      <td>...</td>\n",
       "      <td>...</td>\n",
       "      <td>...</td>\n",
       "      <td>...</td>\n",
       "      <td>...</td>\n",
       "      <td>...</td>\n",
       "      <td>...</td>\n",
       "      <td>...</td>\n",
       "      <td>...</td>\n",
       "      <td>...</td>\n",
       "    </tr>\n",
       "    <tr>\n",
       "      <th>1455</th>\n",
       "      <td>7917</td>\n",
       "      <td>6</td>\n",
       "      <td>5</td>\n",
       "      <td>953</td>\n",
       "      <td>2</td>\n",
       "      <td>1</td>\n",
       "      <td>3</td>\n",
       "      <td>7</td>\n",
       "      <td>1</td>\n",
       "      <td>460</td>\n",
       "      <td>1</td>\n",
       "    </tr>\n",
       "    <tr>\n",
       "      <th>1456</th>\n",
       "      <td>13175</td>\n",
       "      <td>6</td>\n",
       "      <td>6</td>\n",
       "      <td>1542</td>\n",
       "      <td>2</td>\n",
       "      <td>0</td>\n",
       "      <td>3</td>\n",
       "      <td>7</td>\n",
       "      <td>2</td>\n",
       "      <td>500</td>\n",
       "      <td>1</td>\n",
       "    </tr>\n",
       "    <tr>\n",
       "      <th>1457</th>\n",
       "      <td>9042</td>\n",
       "      <td>7</td>\n",
       "      <td>9</td>\n",
       "      <td>1152</td>\n",
       "      <td>2</td>\n",
       "      <td>0</td>\n",
       "      <td>4</td>\n",
       "      <td>9</td>\n",
       "      <td>2</td>\n",
       "      <td>252</td>\n",
       "      <td>1</td>\n",
       "    </tr>\n",
       "    <tr>\n",
       "      <th>1458</th>\n",
       "      <td>9717</td>\n",
       "      <td>5</td>\n",
       "      <td>6</td>\n",
       "      <td>1078</td>\n",
       "      <td>1</td>\n",
       "      <td>0</td>\n",
       "      <td>2</td>\n",
       "      <td>5</td>\n",
       "      <td>0</td>\n",
       "      <td>240</td>\n",
       "      <td>0</td>\n",
       "    </tr>\n",
       "    <tr>\n",
       "      <th>1459</th>\n",
       "      <td>9937</td>\n",
       "      <td>5</td>\n",
       "      <td>6</td>\n",
       "      <td>1256</td>\n",
       "      <td>1</td>\n",
       "      <td>1</td>\n",
       "      <td>3</td>\n",
       "      <td>6</td>\n",
       "      <td>0</td>\n",
       "      <td>276</td>\n",
       "      <td>0</td>\n",
       "    </tr>\n",
       "  </tbody>\n",
       "</table>\n",
       "<p>1460 rows × 11 columns</p>\n",
       "</div>"
      ],
      "text/plain": [
       "      LotArea  OverallQual  OverallCond  TotalBsmtSF  FullBath  HalfBath  \\\n",
       "0        8450            7            5          856         2         1   \n",
       "1        9600            6            8         1262         2         0   \n",
       "2       11250            7            5          920         2         1   \n",
       "3        9550            7            5          756         1         0   \n",
       "4       14260            8            5         1145         2         1   \n",
       "...       ...          ...          ...          ...       ...       ...   \n",
       "1455     7917            6            5          953         2         1   \n",
       "1456    13175            6            6         1542         2         0   \n",
       "1457     9042            7            9         1152         2         0   \n",
       "1458     9717            5            6         1078         1         0   \n",
       "1459     9937            5            6         1256         1         1   \n",
       "\n",
       "      BedroomAbvGr  TotRmsAbvGrd  Fireplaces  GarageArea  AboveMedianPrice  \n",
       "0                3             8           0         548                 1  \n",
       "1                3             6           1         460                 1  \n",
       "2                3             6           1         608                 1  \n",
       "3                3             7           1         642                 0  \n",
       "4                4             9           1         836                 1  \n",
       "...            ...           ...         ...         ...               ...  \n",
       "1455             3             7           1         460                 1  \n",
       "1456             3             7           2         500                 1  \n",
       "1457             4             9           2         252                 1  \n",
       "1458             2             5           0         240                 0  \n",
       "1459             3             6           0         276                 0  \n",
       "\n",
       "[1460 rows x 11 columns]"
      ]
     },
     "execution_count": 5,
     "metadata": {},
     "output_type": "execute_result"
    }
   ],
   "source": [
    "# Löschen von Null values:\n",
    "df.dropna()\n",
    "# Keine Null-Values vorhanden"
   ]
  },
  {
   "cell_type": "markdown",
   "id": "dc13fe5d",
   "metadata": {},
   "source": [
    "## Teilaufgabe 3a) Datenanalyse- und Aufbereitung\n",
    "Führen Sie selbständig eine Datenbereinigung durch, eine explorative Datenanalyse, um die wichtigen Merkmale herauszufiltern. "
   ]
  },
  {
   "cell_type": "code",
   "execution_count": 6,
   "id": "734c3bd6",
   "metadata": {},
   "outputs": [
    {
     "data": {
      "image/png": "[encoded data removed]",
      "text/plain": [
       "<Figure size 792x648 with 2 Axes>"
      ]
     },
     "metadata": {
      "needs_background": "light"
     },
     "output_type": "display_data"
    }
   ],
   "source": [
    "### Erster Überblick über die Daten, da alle als numerischer Wert vorliegen kann eine erste Korrelationsmatrix erstellt werden:\n",
    "def create_corr():\n",
    "    corr = df.corr()\n",
    "    mask = np.triu(np.ones_like(corr, dtype=bool))\n",
    "    f, ax = plt.subplots(figsize=(11, 9))\n",
    "    cmap = sns.diverging_palette(230, 20, as_cmap=True)\n",
    "    sns.heatmap(corr, mask=mask, cmap=cmap, center=0, annot=True,\n",
    "                square=True, linewidths=.5, cbar_kws={\"shrink\": .5})\n",
    "create_corr()"
   ]
  },
  {
   "cell_type": "markdown",
   "id": "eabfae57",
   "metadata": {},
   "source": [
    "Erste Insights:\n",
    "- Stärkere Korreleationen bei der Bewertung ob ein Objekt über dem Durchschnittspreis liegt sind vorhanden bei:\n",
    " - Die Gesamtqualität des Objekts (OverallQual)\n",
    " - Der Anzahl der Badezimmer (FullBath)\n",
    " - Der Größe der Garagenfläche\n",
    "- Eine Starke Korrelation liegt auch vor bei der Anzahl der Zimmer insgesamt zu der Anzahl der Schlafzimmer, was auch logisch nachzuvollziehen ist, denn je mehr Zimmer ein Haus hat, desto mehr Schlafzimmer sind auch dabei, Küchen, etc. sind zumeist nicht redundant vorhanden."
   ]
  },
  {
   "cell_type": "markdown",
   "id": "5eeaf5d8",
   "metadata": {},
   "source": [
    "### Analyse LotArea"
   ]
  },
  {
   "cell_type": "code",
   "execution_count": 7,
   "id": "1aafc2e3",
   "metadata": {},
   "outputs": [
    {
     "data": {
      "text/plain": [
       "count      1460.000000\n",
       "mean      10516.828082\n",
       "std        9981.264932\n",
       "min        1300.000000\n",
       "25%        7553.500000\n",
       "50%        9478.500000\n",
       "75%       11601.500000\n",
       "max      215245.000000\n",
       "Name: LotArea, dtype: float64"
      ]
     },
     "execution_count": 7,
     "metadata": {},
     "output_type": "execute_result"
    }
   ],
   "source": [
    "df[\"LotArea\"].describe()"
   ]
  },
  {
   "cell_type": "code",
   "execution_count": 8,
   "id": "07ca68e8",
   "metadata": {},
   "outputs": [
    {
     "data": {
      "text/plain": [
       "<AxesSubplot:xlabel='LotArea'>"
      ]
     },
     "execution_count": 8,
     "metadata": {},
     "output_type": "execute_result"
    },
    {
     "data": {
      "image/png": "[encoded data removed]",
      "text/plain": [
       "<Figure size 432x288 with 1 Axes>"
      ]
     },
     "metadata": {
      "needs_background": "light"
     },
     "output_type": "display_data"
    }
   ],
   "source": [
    "# die 3. Perzentile weicht sehr Stark vom Maximum ab > Der Datensatz enthält vermutlich einige wenige Ausreißer:\n",
    "sns.boxplot(data=df, x=\"LotArea\")"
   ]
  },
  {
   "cell_type": "code",
   "execution_count": 9,
   "id": "e43d51bb",
   "metadata": {},
   "outputs": [
    {
     "data": {
      "text/html": [
       "<div>\n",
       "<style scoped>\n",
       "    .dataframe tbody tr th:only-of-type {\n",
       "        vertical-align: middle;\n",
       "    }\n",
       "\n",
       "    .dataframe tbody tr th {\n",
       "        vertical-align: top;\n",
       "    }\n",
       "\n",
       "    .dataframe thead th {\n",
       "        text-align: right;\n",
       "    }\n",
       "</style>\n",
       "<table border=\"1\" class=\"dataframe\">\n",
       "  <thead>\n",
       "    <tr style=\"text-align: right;\">\n",
       "      <th></th>\n",
       "      <th>LotArea</th>\n",
       "      <th>OverallQual</th>\n",
       "      <th>OverallCond</th>\n",
       "      <th>TotalBsmtSF</th>\n",
       "      <th>FullBath</th>\n",
       "      <th>HalfBath</th>\n",
       "      <th>BedroomAbvGr</th>\n",
       "      <th>TotRmsAbvGrd</th>\n",
       "      <th>Fireplaces</th>\n",
       "      <th>GarageArea</th>\n",
       "      <th>AboveMedianPrice</th>\n",
       "    </tr>\n",
       "  </thead>\n",
       "  <tbody>\n",
       "    <tr>\n",
       "      <th>313</th>\n",
       "      <td>215245</td>\n",
       "      <td>7</td>\n",
       "      <td>5</td>\n",
       "      <td>2136</td>\n",
       "      <td>2</td>\n",
       "      <td>0</td>\n",
       "      <td>3</td>\n",
       "      <td>8</td>\n",
       "      <td>2</td>\n",
       "      <td>513</td>\n",
       "      <td>1</td>\n",
       "    </tr>\n",
       "    <tr>\n",
       "      <th>335</th>\n",
       "      <td>164660</td>\n",
       "      <td>5</td>\n",
       "      <td>6</td>\n",
       "      <td>1499</td>\n",
       "      <td>2</td>\n",
       "      <td>0</td>\n",
       "      <td>3</td>\n",
       "      <td>7</td>\n",
       "      <td>2</td>\n",
       "      <td>529</td>\n",
       "      <td>1</td>\n",
       "    </tr>\n",
       "    <tr>\n",
       "      <th>249</th>\n",
       "      <td>159000</td>\n",
       "      <td>6</td>\n",
       "      <td>7</td>\n",
       "      <td>1444</td>\n",
       "      <td>2</td>\n",
       "      <td>0</td>\n",
       "      <td>4</td>\n",
       "      <td>7</td>\n",
       "      <td>2</td>\n",
       "      <td>389</td>\n",
       "      <td>1</td>\n",
       "    </tr>\n",
       "    <tr>\n",
       "      <th>706</th>\n",
       "      <td>115149</td>\n",
       "      <td>7</td>\n",
       "      <td>5</td>\n",
       "      <td>1643</td>\n",
       "      <td>2</td>\n",
       "      <td>0</td>\n",
       "      <td>2</td>\n",
       "      <td>5</td>\n",
       "      <td>2</td>\n",
       "      <td>739</td>\n",
       "      <td>1</td>\n",
       "    </tr>\n",
       "    <tr>\n",
       "      <th>451</th>\n",
       "      <td>70761</td>\n",
       "      <td>7</td>\n",
       "      <td>5</td>\n",
       "      <td>1533</td>\n",
       "      <td>2</td>\n",
       "      <td>0</td>\n",
       "      <td>2</td>\n",
       "      <td>5</td>\n",
       "      <td>2</td>\n",
       "      <td>576</td>\n",
       "      <td>1</td>\n",
       "    </tr>\n",
       "    <tr>\n",
       "      <th>1298</th>\n",
       "      <td>63887</td>\n",
       "      <td>10</td>\n",
       "      <td>5</td>\n",
       "      <td>6110</td>\n",
       "      <td>2</td>\n",
       "      <td>1</td>\n",
       "      <td>3</td>\n",
       "      <td>12</td>\n",
       "      <td>3</td>\n",
       "      <td>1418</td>\n",
       "      <td>0</td>\n",
       "    </tr>\n",
       "    <tr>\n",
       "      <th>1396</th>\n",
       "      <td>57200</td>\n",
       "      <td>5</td>\n",
       "      <td>5</td>\n",
       "      <td>747</td>\n",
       "      <td>1</td>\n",
       "      <td>0</td>\n",
       "      <td>3</td>\n",
       "      <td>7</td>\n",
       "      <td>2</td>\n",
       "      <td>572</td>\n",
       "      <td>0</td>\n",
       "    </tr>\n",
       "    <tr>\n",
       "      <th>769</th>\n",
       "      <td>53504</td>\n",
       "      <td>8</td>\n",
       "      <td>5</td>\n",
       "      <td>1650</td>\n",
       "      <td>3</td>\n",
       "      <td>1</td>\n",
       "      <td>4</td>\n",
       "      <td>12</td>\n",
       "      <td>1</td>\n",
       "      <td>841</td>\n",
       "      <td>1</td>\n",
       "    </tr>\n",
       "    <tr>\n",
       "      <th>457</th>\n",
       "      <td>53227</td>\n",
       "      <td>4</td>\n",
       "      <td>6</td>\n",
       "      <td>1364</td>\n",
       "      <td>1</td>\n",
       "      <td>0</td>\n",
       "      <td>2</td>\n",
       "      <td>6</td>\n",
       "      <td>2</td>\n",
       "      <td>529</td>\n",
       "      <td>1</td>\n",
       "    </tr>\n",
       "    <tr>\n",
       "      <th>384</th>\n",
       "      <td>53107</td>\n",
       "      <td>6</td>\n",
       "      <td>5</td>\n",
       "      <td>1580</td>\n",
       "      <td>2</td>\n",
       "      <td>1</td>\n",
       "      <td>3</td>\n",
       "      <td>9</td>\n",
       "      <td>2</td>\n",
       "      <td>501</td>\n",
       "      <td>1</td>\n",
       "    </tr>\n",
       "    <tr>\n",
       "      <th>53</th>\n",
       "      <td>50271</td>\n",
       "      <td>9</td>\n",
       "      <td>5</td>\n",
       "      <td>1842</td>\n",
       "      <td>0</td>\n",
       "      <td>1</td>\n",
       "      <td>0</td>\n",
       "      <td>5</td>\n",
       "      <td>1</td>\n",
       "      <td>894</td>\n",
       "      <td>1</td>\n",
       "    </tr>\n",
       "    <tr>\n",
       "      <th>661</th>\n",
       "      <td>46589</td>\n",
       "      <td>8</td>\n",
       "      <td>7</td>\n",
       "      <td>1629</td>\n",
       "      <td>2</td>\n",
       "      <td>1</td>\n",
       "      <td>4</td>\n",
       "      <td>8</td>\n",
       "      <td>1</td>\n",
       "      <td>711</td>\n",
       "      <td>1</td>\n",
       "    </tr>\n",
       "    <tr>\n",
       "      <th>848</th>\n",
       "      <td>45600</td>\n",
       "      <td>6</td>\n",
       "      <td>8</td>\n",
       "      <td>907</td>\n",
       "      <td>3</td>\n",
       "      <td>0</td>\n",
       "      <td>5</td>\n",
       "      <td>10</td>\n",
       "      <td>1</td>\n",
       "      <td>360</td>\n",
       "      <td>1</td>\n",
       "    </tr>\n",
       "    <tr>\n",
       "      <th>523</th>\n",
       "      <td>40094</td>\n",
       "      <td>10</td>\n",
       "      <td>5</td>\n",
       "      <td>3138</td>\n",
       "      <td>3</td>\n",
       "      <td>1</td>\n",
       "      <td>3</td>\n",
       "      <td>11</td>\n",
       "      <td>1</td>\n",
       "      <td>884</td>\n",
       "      <td>1</td>\n",
       "    </tr>\n",
       "    <tr>\n",
       "      <th>271</th>\n",
       "      <td>39104</td>\n",
       "      <td>7</td>\n",
       "      <td>7</td>\n",
       "      <td>1385</td>\n",
       "      <td>1</td>\n",
       "      <td>0</td>\n",
       "      <td>2</td>\n",
       "      <td>5</td>\n",
       "      <td>2</td>\n",
       "      <td>439</td>\n",
       "      <td>1</td>\n",
       "    </tr>\n",
       "  </tbody>\n",
       "</table>\n",
       "</div>"
      ],
      "text/plain": [
       "      LotArea  OverallQual  OverallCond  TotalBsmtSF  FullBath  HalfBath  \\\n",
       "313    215245            7            5         2136         2         0   \n",
       "335    164660            5            6         1499         2         0   \n",
       "249    159000            6            7         1444         2         0   \n",
       "706    115149            7            5         1643         2         0   \n",
       "451     70761            7            5         1533         2         0   \n",
       "1298    63887           10            5         6110         2         1   \n",
       "1396    57200            5            5          747         1         0   \n",
       "769     53504            8            5         1650         3         1   \n",
       "457     53227            4            6         1364         1         0   \n",
       "384     53107            6            5         1580         2         1   \n",
       "53      50271            9            5         1842         0         1   \n",
       "661     46589            8            7         1629         2         1   \n",
       "848     45600            6            8          907         3         0   \n",
       "523     40094           10            5         3138         3         1   \n",
       "271     39104            7            7         1385         1         0   \n",
       "\n",
       "      BedroomAbvGr  TotRmsAbvGrd  Fireplaces  GarageArea  AboveMedianPrice  \n",
       "313              3             8           2         513                 1  \n",
       "335              3             7           2         529                 1  \n",
       "249              4             7           2         389                 1  \n",
       "706              2             5           2         739                 1  \n",
       "451              2             5           2         576                 1  \n",
       "1298             3            12           3        1418                 0  \n",
       "1396             3             7           2         572                 0  \n",
       "769              4            12           1         841                 1  \n",
       "457              2             6           2         529                 1  \n",
       "384              3             9           2         501                 1  \n",
       "53               0             5           1         894                 1  \n",
       "661              4             8           1         711                 1  \n",
       "848              5            10           1         360                 1  \n",
       "523              3            11           1         884                 1  \n",
       "271              2             5           2         439                 1  "
      ]
     },
     "execution_count": 9,
     "metadata": {},
     "output_type": "execute_result"
    }
   ],
   "source": [
    "# Die Ausreißer sollten ermittelt und entfernt werden um ein besser ausbalanciertes Datenset zu haben:\n",
    "df.sort_values(by=[\"LotArea\"], ascending=False).head(15)"
   ]
  },
  {
   "cell_type": "markdown",
   "id": "3743ba03",
   "metadata": {},
   "source": [
    "> Man könnte den Datensatz besser ausbalancieren, indem man alle Datensätze entfernt, die eine LotArea über 40.000 haben und dann bei einer neuen Bewertung daraufhin prüfen ob das Haus \"predictable\" ist. Bei einer Größe von 40.000 kann man grundsätzlich sagen, dass es auch Überdurchschnittlich bewertet wird (2 von 14 Datensätzen sind hier AboveMedianPrice = 0, das ist immerhin eine Trefferquote von knapp 86%). Ein besser ausbalancziertes Datenset macht aber andere Vorhersagen \"besser\"."
   ]
  },
  {
   "cell_type": "code",
   "execution_count": 10,
   "id": "97f717cd",
   "metadata": {},
   "outputs": [
    {
     "data": {
      "text/plain": [
       "<AxesSubplot:xlabel='LotArea'>"
      ]
     },
     "execution_count": 10,
     "metadata": {},
     "output_type": "execute_result"
    },
    {
     "data": {
      "image/png": "[encoded data removed]",
      "text/plain": [
       "<Figure size 432x288 with 1 Axes>"
      ]
     },
     "metadata": {
      "needs_background": "light"
     },
     "output_type": "display_data"
    }
   ],
   "source": [
    "# Schwelle bei ca. 40.000 m² Grundstücksfläche\n",
    "df = df[df[\"LotArea\"]< 40000]\n",
    "sns.boxplot(data=df, x=\"LotArea\")"
   ]
  },
  {
   "cell_type": "markdown",
   "id": "63e38069",
   "metadata": {},
   "source": [
    "> mit der obigen Änderung/Reduzierung des Datensatzes lies sich die Korrelation von 0.19 auf 0.31 für die LotArea ändern."
   ]
  },
  {
   "cell_type": "markdown",
   "id": "6d657bb6",
   "metadata": {},
   "source": [
    "### Analyse OverallQual       "
   ]
  },
  {
   "cell_type": "code",
   "execution_count": 11,
   "id": "dd7376eb",
   "metadata": {},
   "outputs": [
    {
     "data": {
      "text/plain": [
       "count    1446.000000\n",
       "mean        6.090595\n",
       "std         1.375800\n",
       "min         1.000000\n",
       "25%         5.000000\n",
       "50%         6.000000\n",
       "75%         7.000000\n",
       "max        10.000000\n",
       "Name: OverallQual, dtype: float64"
      ]
     },
     "execution_count": 11,
     "metadata": {},
     "output_type": "execute_result"
    }
   ],
   "source": [
    "df[\"OverallQual\"].describe()"
   ]
  },
  {
   "cell_type": "code",
   "execution_count": 12,
   "id": "c4ea251e",
   "metadata": {
    "scrolled": true
   },
   "outputs": [
    {
     "data": {
      "text/plain": [
       "array([ 7,  6,  8,  5,  9,  4, 10,  3,  1,  2], dtype=int64)"
      ]
     },
     "execution_count": 12,
     "metadata": {},
     "output_type": "execute_result"
    }
   ],
   "source": [
    "df[\"OverallQual\"].unique()\n",
    "# Die Qualität ist ein Kategorischer Wert und liegt zwischen 1 und 10"
   ]
  },
  {
   "cell_type": "code",
   "execution_count": 13,
   "id": "e968ca19",
   "metadata": {},
   "outputs": [],
   "source": [
    "def sum_up_cat(col_name):\n",
    "    labels = list()\n",
    "    zeros = list()\n",
    "    ones = list()\n",
    "\n",
    "    for col in df[col_name].unique():\n",
    "        labels.append(col)\n",
    "        zeros.append(len(df[(df[\"AboveMedianPrice\"]==0)  & (df[col_name]==col)]))\n",
    "        ones.append(len(df[(df[\"AboveMedianPrice\"]==1)  & (df[col_name]==col)]))\n",
    "        \n",
    "    return labels, zeros, ones\n",
    "\n",
    "def draw_stacked_bar_chart(col_name):\n",
    "    label, zeros, ones = sum_up_cat(col_name)\n",
    "\n",
    "    fig, ax = plt.subplots()\n",
    "    p0 = ax.bar(label, zeros, bottom=0, label=\"0\")\n",
    "    p1 = ax.bar(label, ones, bottom=zeros, label=\"1\")\n",
    "    \n",
    "    ax.bar_label(p0, label_type='center')\n",
    "    ax.bar_label(p1, label_type='center')\n",
    "\n",
    "    plt.xlabel(f\"Spalte: {col_name}\")\n",
    "    plt.ylabel(\"Summen\")\n",
    "\n",
    "    plt.title(f\"Gestapeltes Balkendiagramm für {col_name} und die Verteilung auf 0 und 1 bei AboveMedianPrice\")\n",
    "    ax.legend()\n",
    "\n",
    "    plt.show()"
   ]
  },
  {
   "cell_type": "code",
   "execution_count": 14,
   "id": "89bc9514",
   "metadata": {
    "scrolled": true
   },
   "outputs": [
    {
     "data": {
      "image/png": "[encoded data removed]",
      "text/plain": [
       "<Figure size 432x288 with 1 Axes>"
      ]
     },
     "metadata": {
      "needs_background": "light"
     },
     "output_type": "display_data"
    }
   ],
   "source": [
    "draw_stacked_bar_chart(\"OverallQual\")"
   ]
  },
  {
   "cell_type": "markdown",
   "id": "3a2fea72",
   "metadata": {},
   "source": [
    "> Wie es scheint gibt es keine Häuser, die bei einer Qualität von 9 oder 10 nicht die Bewertung \"Überdurchschnittlich\" erhalten. Also, je höher die Qualität desto besser!\n",
    "\n",
    "> Aus der Grafik geht auch stark hervor, je höher die Qualität beurteilt wird, desto wahrscheinlicher ist auch die Einstuffung in \"Überdurchschnittlich\""
   ]
  },
  {
   "cell_type": "markdown",
   "id": "5c386538",
   "metadata": {},
   "source": [
    "### Analyse OverallCond    "
   ]
  },
  {
   "cell_type": "code",
   "execution_count": 15,
   "id": "3072db51",
   "metadata": {},
   "outputs": [
    {
     "data": {
      "text/plain": [
       "count    1446.000000\n",
       "mean        5.574689\n",
       "std         1.114060\n",
       "min         1.000000\n",
       "25%         5.000000\n",
       "50%         5.000000\n",
       "75%         6.000000\n",
       "max         9.000000\n",
       "Name: OverallCond, dtype: float64"
      ]
     },
     "execution_count": 15,
     "metadata": {},
     "output_type": "execute_result"
    }
   ],
   "source": [
    "df[\"OverallCond\"].describe()"
   ]
  },
  {
   "cell_type": "code",
   "execution_count": 16,
   "id": "2965e634",
   "metadata": {},
   "outputs": [
    {
     "data": {
      "text/plain": [
       "array([5, 8, 6, 7, 4, 2, 3, 9, 1], dtype=int64)"
      ]
     },
     "execution_count": 16,
     "metadata": {},
     "output_type": "execute_result"
    }
   ],
   "source": [
    "df[\"OverallCond\"].unique()"
   ]
  },
  {
   "cell_type": "code",
   "execution_count": 17,
   "id": "276d7e75",
   "metadata": {},
   "outputs": [
    {
     "data": {
      "image/png": "[encoded data removed]",
      "text/plain": [
       "<Figure size 432x288 with 1 Axes>"
      ]
     },
     "metadata": {
      "needs_background": "light"
     },
     "output_type": "display_data"
    }
   ],
   "source": [
    "draw_stacked_bar_chart(\"OverallCond\")"
   ]
  },
  {
   "cell_type": "markdown",
   "id": "c2c195d0",
   "metadata": {},
   "source": [
    "> Die OverallCond verhält sich wie die OverallQual, diese hat ebenfalls eine Skala, die hier aber von 1-9 geht und je höher, desto besser für die Hausbewertung, wobei wir in der Korrelationsmatrix bereits gesehen haben, dass dieses Feature von keiner großen Bedeutung ist, da es kaum einen Einfluss hat.\n",
    "\n",
    "> Hier sieht man auch recht deutlich, dass dieser Datensatz recht unbalanciert ist, es wird fast immer mit einer 5 angegeben. Die anderen Bewertungen 1-4 und 6-9 kommen in Summe seltener vor als die 5.\n",
    "\n",
    "> Dieses Feature würde das Modell lediglich verwirren. Die OverallQual ist hier ein besserer Indikator!"
   ]
  },
  {
   "cell_type": "markdown",
   "id": "2478fe84",
   "metadata": {},
   "source": [
    "### Analyse TotalBsmtSF   "
   ]
  },
  {
   "cell_type": "code",
   "execution_count": 18,
   "id": "69431c02",
   "metadata": {},
   "outputs": [
    {
     "data": {
      "text/plain": [
       "count    1446.000000\n",
       "mean     1048.841632\n",
       "std       413.427281\n",
       "min         0.000000\n",
       "25%       794.250000\n",
       "50%       990.000000\n",
       "75%      1283.250000\n",
       "max      3206.000000\n",
       "Name: TotalBsmtSF, dtype: float64"
      ]
     },
     "execution_count": 18,
     "metadata": {},
     "output_type": "execute_result"
    }
   ],
   "source": [
    "df[\"TotalBsmtSF\"].describe()"
   ]
  },
  {
   "cell_type": "code",
   "execution_count": 19,
   "id": "0125f72d",
   "metadata": {},
   "outputs": [
    {
     "data": {
      "text/plain": [
       "<AxesSubplot:xlabel='TotalBsmtSF'>"
      ]
     },
     "execution_count": 19,
     "metadata": {},
     "output_type": "execute_result"
    },
    {
     "data": {
      "image/png": "[encoded data removed]",
      "text/plain": [
       "<Figure size 432x288 with 1 Axes>"
      ]
     },
     "metadata": {
      "needs_background": "light"
     },
     "output_type": "display_data"
    }
   ],
   "source": [
    "sns.boxplot(data=df, x=\"TotalBsmtSF\")"
   ]
  },
  {
   "cell_type": "markdown",
   "id": "078acfd9",
   "metadata": {},
   "source": [
    "> Hier sind ein paar Ausreißer erkennbar, da jedoch die Unterkellerung keinen wichtigen Einfluss auf die Ergebnisvariable hat, bleiben diese im Datenset."
   ]
  },
  {
   "cell_type": "markdown",
   "id": "27470453",
   "metadata": {},
   "source": [
    "### Analyse FullBath   "
   ]
  },
  {
   "cell_type": "code",
   "execution_count": 20,
   "id": "4ea43573",
   "metadata": {},
   "outputs": [
    {
     "data": {
      "text/plain": [
       "count    1446.000000\n",
       "mean        1.561549\n",
       "std         0.546788\n",
       "min         0.000000\n",
       "25%         1.000000\n",
       "50%         2.000000\n",
       "75%         2.000000\n",
       "max         3.000000\n",
       "Name: FullBath, dtype: float64"
      ]
     },
     "execution_count": 20,
     "metadata": {},
     "output_type": "execute_result"
    }
   ],
   "source": [
    "df[\"FullBath\"].describe()"
   ]
  },
  {
   "cell_type": "code",
   "execution_count": 21,
   "id": "72524e5b",
   "metadata": {},
   "outputs": [
    {
     "data": {
      "image/png": "[encoded data removed]",
      "text/plain": [
       "<Figure size 432x288 with 1 Axes>"
      ]
     },
     "metadata": {
      "needs_background": "light"
     },
     "output_type": "display_data"
    }
   ],
   "source": [
    "draw_stacked_bar_chart(\"FullBath\")"
   ]
  },
  {
   "cell_type": "markdown",
   "id": "8c41aba4",
   "metadata": {},
   "source": [
    "> Die allermeisten Häuser haben ein oder zwei Bäder, selten darüber oder darunter\n",
    "\n",
    "> Hat ein Haus mind. zwei Bäder ist die Wahrscheinlichkeit recht groß, dass es Überdurchschnittlich liegen wird."
   ]
  },
  {
   "cell_type": "markdown",
   "id": "e0e00ed7",
   "metadata": {},
   "source": [
    "### Analyse HalfBath  "
   ]
  },
  {
   "cell_type": "code",
   "execution_count": 22,
   "id": "f4e559ea",
   "metadata": {},
   "outputs": [
    {
     "data": {
      "text/plain": [
       "count    1446.000000\n",
       "mean        0.382434\n",
       "std         0.502942\n",
       "min         0.000000\n",
       "25%         0.000000\n",
       "50%         0.000000\n",
       "75%         1.000000\n",
       "max         2.000000\n",
       "Name: HalfBath, dtype: float64"
      ]
     },
     "execution_count": 22,
     "metadata": {},
     "output_type": "execute_result"
    }
   ],
   "source": [
    "df[\"HalfBath\"].describe()"
   ]
  },
  {
   "cell_type": "code",
   "execution_count": 23,
   "id": "0108ccec",
   "metadata": {
    "scrolled": true
   },
   "outputs": [
    {
     "data": {
      "image/png": "[encoded data removed]",
      "text/plain": [
       "<Figure size 432x288 with 1 Axes>"
      ]
     },
     "metadata": {
      "needs_background": "light"
     },
     "output_type": "display_data"
    }
   ],
   "source": [
    "draw_stacked_bar_chart(\"HalfBath\")"
   ]
  },
  {
   "cell_type": "markdown",
   "id": "2f4f41f4",
   "metadata": {},
   "source": [
    "> Bei der Anzahl an Geste-WCs gibt es keine besonderen Insights, es hatte auch keine nennenswerten Korrelationen"
   ]
  },
  {
   "cell_type": "markdown",
   "id": "8fee944f",
   "metadata": {},
   "source": [
    "### Analyse BedroomAbvGr"
   ]
  },
  {
   "cell_type": "code",
   "execution_count": 24,
   "id": "e29116d2",
   "metadata": {},
   "outputs": [
    {
     "data": {
      "text/plain": [
       "count    1446.000000\n",
       "mean        2.865837\n",
       "std         0.811668\n",
       "min         0.000000\n",
       "25%         2.000000\n",
       "50%         3.000000\n",
       "75%         3.000000\n",
       "max         8.000000\n",
       "Name: BedroomAbvGr, dtype: float64"
      ]
     },
     "execution_count": 24,
     "metadata": {},
     "output_type": "execute_result"
    }
   ],
   "source": [
    "df[\"BedroomAbvGr\"].describe()"
   ]
  },
  {
   "cell_type": "code",
   "execution_count": 25,
   "id": "a1397454",
   "metadata": {},
   "outputs": [
    {
     "data": {
      "image/png": "[encoded data removed]",
      "text/plain": [
       "<Figure size 432x288 with 1 Axes>"
      ]
     },
     "metadata": {
      "needs_background": "light"
     },
     "output_type": "display_data"
    }
   ],
   "source": [
    "draw_stacked_bar_chart(\"BedroomAbvGr\")"
   ]
  },
  {
   "cell_type": "markdown",
   "id": "c275b8eb",
   "metadata": {},
   "source": [
    "> Je mehr Schlafzimmer ein Haus aufweist, desto höher ist auch die Wahrscheinlichkeit einer besseren Bewertung, ab 3 Schlafzimmern steigt die Anzahl an überdurchschnittlich bewerteten Häusern im Vergleich zu den unterdurchschnittlich bewerteten."
   ]
  },
  {
   "cell_type": "markdown",
   "id": "6144010a",
   "metadata": {},
   "source": [
    "### Analyse TotRmsAbvGrd"
   ]
  },
  {
   "cell_type": "code",
   "execution_count": 26,
   "id": "4df60b62",
   "metadata": {},
   "outputs": [
    {
     "data": {
      "text/plain": [
       "count    1446.000000\n",
       "mean        6.503458\n",
       "std         1.609548\n",
       "min         2.000000\n",
       "25%         5.000000\n",
       "50%         6.000000\n",
       "75%         7.000000\n",
       "max        14.000000\n",
       "Name: TotRmsAbvGrd, dtype: float64"
      ]
     },
     "execution_count": 26,
     "metadata": {},
     "output_type": "execute_result"
    }
   ],
   "source": [
    "df[\"TotRmsAbvGrd\"].describe()"
   ]
  },
  {
   "cell_type": "code",
   "execution_count": 27,
   "id": "755584f1",
   "metadata": {},
   "outputs": [
    {
     "data": {
      "text/plain": [
       "<AxesSubplot:xlabel='TotRmsAbvGrd'>"
      ]
     },
     "execution_count": 27,
     "metadata": {},
     "output_type": "execute_result"
    },
    {
     "data": {
      "image/png": "[encoded data removed]",
      "text/plain": [
       "<Figure size 432x288 with 1 Axes>"
      ]
     },
     "metadata": {
      "needs_background": "light"
     },
     "output_type": "display_data"
    }
   ],
   "source": [
    "sns.boxplot(data=df, x=\"TotRmsAbvGrd\")"
   ]
  },
  {
   "cell_type": "code",
   "execution_count": 28,
   "id": "1ed09036",
   "metadata": {},
   "outputs": [
    {
     "data": {
      "image/png": "[encoded data removed]",
      "text/plain": [
       "<Figure size 432x288 with 1 Axes>"
      ]
     },
     "metadata": {
      "needs_background": "light"
     },
     "output_type": "display_data"
    }
   ],
   "source": [
    "draw_stacked_bar_chart(\"TotRmsAbvGrd\")"
   ]
  },
  {
   "cell_type": "markdown",
   "id": "663fa167",
   "metadata": {},
   "source": [
    "> Bei der Anzahl der Räume allgemein gibt es keine wesentlichen Auffälligkeiten, außer eben die bereits oben erwähnte starke Korrelation zu der Anzahl von Schlafzimmern\n",
    "\n",
    "> Je mehr Zimmer, desto besser für die Bewertung"
   ]
  },
  {
   "cell_type": "markdown",
   "id": "f6246289",
   "metadata": {},
   "source": [
    "### Analyse Fireplaces"
   ]
  },
  {
   "cell_type": "code",
   "execution_count": 29,
   "id": "8fbd55f4",
   "metadata": {},
   "outputs": [
    {
     "data": {
      "text/plain": [
       "count    1446.000000\n",
       "mean        0.602351\n",
       "std         0.635921\n",
       "min         0.000000\n",
       "25%         0.000000\n",
       "50%         1.000000\n",
       "75%         1.000000\n",
       "max         3.000000\n",
       "Name: Fireplaces, dtype: float64"
      ]
     },
     "execution_count": 29,
     "metadata": {},
     "output_type": "execute_result"
    }
   ],
   "source": [
    "df[\"Fireplaces\"].describe()"
   ]
  },
  {
   "cell_type": "code",
   "execution_count": 30,
   "id": "4ce32e9a",
   "metadata": {},
   "outputs": [
    {
     "data": {
      "image/png": "[encoded data removed]",
      "text/plain": [
       "<Figure size 432x288 with 1 Axes>"
      ]
     },
     "metadata": {
      "needs_background": "light"
     },
     "output_type": "display_data"
    }
   ],
   "source": [
    "draw_stacked_bar_chart(\"Fireplaces\")"
   ]
  },
  {
   "cell_type": "markdown",
   "id": "b6be7a1d",
   "metadata": {},
   "source": [
    "> Ein Haus ohne Kamin wird zumeist schlecht bewertet. Dieser scheint bei der Bewertung wichtig zu sein, denn bereits bei einem Kamin ist werden 3/4 der Häuser als \"Überdurchschnittlich\" bewertet."
   ]
  },
  {
   "cell_type": "markdown",
   "id": "a464d3a6",
   "metadata": {},
   "source": [
    "### Analyse GarageArea"
   ]
  },
  {
   "cell_type": "code",
   "execution_count": 31,
   "id": "41f7be59",
   "metadata": {},
   "outputs": [
    {
     "data": {
      "text/plain": [
       "count    1446.000000\n",
       "mean      471.020055\n",
       "std       212.316246\n",
       "min         0.000000\n",
       "25%       326.250000\n",
       "50%       478.000000\n",
       "75%       576.000000\n",
       "max      1390.000000\n",
       "Name: GarageArea, dtype: float64"
      ]
     },
     "execution_count": 31,
     "metadata": {},
     "output_type": "execute_result"
    }
   ],
   "source": [
    "df[\"GarageArea\"].describe()"
   ]
  },
  {
   "cell_type": "code",
   "execution_count": 32,
   "id": "07782b5f",
   "metadata": {},
   "outputs": [
    {
     "data": {
      "text/plain": [
       "<AxesSubplot:xlabel='GarageArea'>"
      ]
     },
     "execution_count": 32,
     "metadata": {},
     "output_type": "execute_result"
    },
    {
     "data": {
      "image/png": "[encoded data removed]",
      "text/plain": [
       "<Figure size 432x288 with 1 Axes>"
      ]
     },
     "metadata": {
      "needs_background": "light"
     },
     "output_type": "display_data"
    }
   ],
   "source": [
    "sns.boxplot(data=df, x=\"GarageArea\")"
   ]
  },
  {
   "cell_type": "code",
   "execution_count": 33,
   "id": "ab22ecd7",
   "metadata": {},
   "outputs": [
    {
     "data": {
      "image/png": "[encoded data removed]",
      "text/plain": [
       "<Figure size 432x288 with 1 Axes>"
      ]
     },
     "metadata": {
      "needs_background": "light"
     },
     "output_type": "display_data"
    }
   ],
   "source": [
    "df[\"GarageAvailable\"] = df[\"GarageArea\"]>0\n",
    "draw_stacked_bar_chart(\"GarageAvailable\")"
   ]
  },
  {
   "cell_type": "markdown",
   "id": "d55b521d",
   "metadata": {},
   "source": [
    "> Ist gar keine Garage vorhanden, wurde auch kein Haus als \"Überdurchschnittlich\" bewertet. Dies scheint ein wichtiges Attribut zu sein.\n",
    "\n",
    "> Zudemt zeigt die Garagengröße bereits in der Korrelationsmatrix, dass sie wichtig ist."
   ]
  },
  {
   "cell_type": "markdown",
   "id": "1ac13322",
   "metadata": {},
   "source": [
    "### Abschließende Wahl der relevanten Features:"
   ]
  },
  {
   "cell_type": "markdown",
   "id": "d6f5ffea",
   "metadata": {},
   "source": [
    "## Zusammenfassung relevanter und nicht relevanter Features:\n",
    "### relevante Features:\n",
    "> - LotArea: Das Grundstück kann unter Umständen einen Einfluss auf den Wert des Hauses haben, je größer desto eher wird das Haus gut bewertet (vgl. zu Beginn wurden X (Ausreißer-)Datensätze entfernt, die zu über 90% als über dem Marktpreis liegen.\n",
    "> - OverallQual: Die Qualität ist ein wichtiger Faktor in der Bewertung ob ein Haus Über- oder Unterdurchschnittlich verkauft/gekauft werden kann\n",
    "> - TotalBsmtSF: Ein Keller ist sicherlich auch für viele ein bedeutsames Merkmal beim Hauskauf und kann über den Preis entscheiden.\n",
    "> - FullBath: Die Anzahl der Bäder ist wichtig, aus den Grafiken geht hervor, dass bei einer Anzahl von 2 Gäste-WCs das Haus bereits häufiger als Überdurchschnittlich bewertet wurde \n",
    "> - HalfBath: Erkenntbar wichtig, je mehr Gäste-WCs vorhanden sind, desto höher die Wahrscheinlichkeit für eine überdurchschnittliche Bewertung\n",
    "> - TotRmsAbvGrd: Je mehr Zimmer im Haus, desto besser für die Bewertung\n",
    "> - Fireplaces: Selbiges gilt auch für Kamine\n",
    "> - GarageArea: Keine Garage = keine gute Bewertung, dies ist ebenfalls ein entscheidendes Feature\n",
    "\n",
    "### nicht relevante Features:\n",
    "> - BedroomAbvGr -> Ist abhängig von TotRmsAbvGrd. Abhängige Merkmale können das Modell verwirren und die Genauigkeit des Modells verschlechtern.\n",
    "> - OverallCond: Dieses Attribut wird auch durch das Attribut OverallQual wiedergespiegelt."
   ]
  },
  {
   "cell_type": "markdown",
   "id": "77eb832d",
   "metadata": {},
   "source": [
    "## Teilaufgabe 3b) Modellbildung und Evaluation\n",
    "Nutzen Sie dann drei verschiedene Klassifizierer ihrer Wahl und vergleichen Sie deren Performance, indem Sie die Daten in Trainings- und Testdaten aufteilen und für die Evaluation der Testdaten jeweils eine Wahrheitstabelle (Confusion Matrix) erstellen. Kommentieren Sie ihren Code und versuchen Sie zu begründen, warum die Performance je Klassifizierer unterschiedlich ausfällt / ausfallen kann. \n"
   ]
  },
  {
   "cell_type": "markdown",
   "id": "10b73126",
   "metadata": {},
   "source": [
    "### Vorbereitungen\n",
    "- zunächst Aufteilung der Daten in ein Trainingsset und ein Testset\n",
    "- Anschließend Erstellung von hilfreichen Funktionen zur Ermittlung von Accuracy, Recall, Precision und F1Score"
   ]
  },
  {
   "cell_type": "code",
   "execution_count": 34,
   "id": "43c31dc4",
   "metadata": {},
   "outputs": [],
   "source": [
    "from sklearn.model_selection import train_test_split\n",
    "\n",
    "# Relevante Features und Target extrahieren bzw. voneinander trennen.\n",
    "X = df[['OverallQual', 'TotalBsmtSF', 'FullBath', 'HalfBath', 'TotRmsAbvGrd', 'Fireplaces', 'GarageArea', 'LotArea']]\n",
    "y = df['AboveMedianPrice']\n",
    "\n",
    "# Datenset in Trainings- und Testdaten aufteilen \n",
    "X_train, X_test, y_train, y_test = train_test_split(X, y, test_size=0.2, random_state=101)"
   ]
  },
  {
   "cell_type": "code",
   "execution_count": 35,
   "id": "8be23f24",
   "metadata": {},
   "outputs": [],
   "source": [
    "from sklearn.metrics import confusion_matrix\n",
    "\n",
    "def get_cm_values(cm):\n",
    "    true_positive = cm[0][0]\n",
    "    false_positive = cm[0][1]\n",
    "    false_negative = cm[1][0]\n",
    "    true_negative = cm[1][1]\n",
    "    \n",
    "    return true_positive, false_positive, false_negative, true_negative\n",
    "\n",
    "def print_accuracy(cm, do_print=True):\n",
    "    true_positive, false_positive, false_negative, true_negative = get_cm_values(cm)\n",
    "    accuracy = float(true_positive + true_negative)/len(y_test)\n",
    "    if do_print: \n",
    "        print(f'Accuracy: {round(accuracy, 4)}')\n",
    "    return accuracy"
   ]
  },
  {
   "cell_type": "markdown",
   "id": "5f45f0d4",
   "metadata": {},
   "source": [
    "> Die Accuracy gilt als allgemeine Metrik zur Messung der Genauigkeit eines Modell. Die Berechnung wird die Anzahl der korrekt klassifizierten Beispiele durch die gesamthafte Anzahl aller Beispiele dividiert. "
   ]
  },
  {
   "cell_type": "code",
   "execution_count": 36,
   "id": "5c818dcb",
   "metadata": {},
   "outputs": [],
   "source": [
    "def print_recall(cm, do_print=True):\n",
    "    true_positive, false_positive, false_negative, true_negative = get_cm_values(cm)\n",
    "    recall = true_positive / (true_positive + false_negative)\n",
    "    if do_print: \n",
    "        print(f'Recall: {round(recall, 4)}')\n",
    "    return recall"
   ]
  },
  {
   "cell_type": "markdown",
   "id": "3f73c1dc",
   "metadata": {},
   "source": [
    "> Der Recall dagegen gibt an wie viele der positiven Beispiele auch korrakt als positiv klassifiziert wurden, im Vergleich zu der Summe aller eigentlich positiven Beispielen (Also Überdurchschnittliche Hausbwertung). Ein zu hoher Recall kann dazu führen, dass das Modell viele falsch positive Ergebnisse liefert dagegen kann ein zu niedriger Recall dazu führen, dass wichtige tatsächliche positive Beispiele übersehen werden."
   ]
  },
  {
   "cell_type": "code",
   "execution_count": 37,
   "id": "64576d1b",
   "metadata": {},
   "outputs": [],
   "source": [
    "def print_precision(cm, do_print=True):\n",
    "    true_positive, false_positive, false_negative, true_negative = get_cm_values(cm)\n",
    "    precision = true_positive / (true_positive + false_positive)\n",
    "    if do_print: \n",
    "        print(f'Precision: {round(precision, 4)}')\n",
    "    return precision"
   ]
  },
  {
   "cell_type": "markdown",
   "id": "e0a41481",
   "metadata": {},
   "source": [
    "> Die Precision gibt an, wie viele der klassifizierten positiven Beispiele auch tatsächlich vom Modell als positiv erkannt wurden. Hier steht die Anzahl an korrekt positiv vorhergesagten Ergebnissen der Summe von allen als positiv vorhergesehenen Werten gegenüber."
   ]
  },
  {
   "cell_type": "code",
   "execution_count": 38,
   "id": "0f713d74",
   "metadata": {},
   "outputs": [],
   "source": [
    "def print_f1_score(cm, do_print=True):\n",
    "    precision = print_precision(cm, False)\n",
    "    recall = print_recall(cm, False)\n",
    "    f1_score = 2*((precision*recall)/(precision+recall))\n",
    "    if do_print: \n",
    "        print(f'F1 Score: {round(f1_score, 4)}')"
   ]
  },
  {
   "cell_type": "markdown",
   "id": "f71e5f89",
   "metadata": {},
   "source": [
    "> F1-Score: Der F1-Score ist eine Metrik, die verwendet wird, um die Genauigkeit des Modells im Hinblick auf positive Klassen zu messen. Bei der Diagnose von Krebs zum Beispiel ist es besonders wichtig, hier eine hohe Genauigkeit bei den positiv vorhergesagten Elementen zu erhalten. Jeder Krebs, der false_negativ ist naturgemäß schlecht, ein Krebspatient bleibt dann unbehandelt. In unserem Beispiel ist es zwar nicht essentiell, dass der Wert hoch ist, jedoch ist es natürlich auch schade, wenn ein Haus unter Marktpreis verkauft wird, das eigentlich überdurchschnittlich ist."
   ]
  },
  {
   "cell_type": "markdown",
   "id": "552d0c95",
   "metadata": {},
   "source": [
    "### 1. Modell Entscheidungsbaum"
   ]
  },
  {
   "cell_type": "code",
   "execution_count": 39,
   "id": "25e674ab",
   "metadata": {},
   "outputs": [
    {
     "name": "stdout",
     "output_type": "stream",
     "text": [
      "Scores - Entscheidungsbaum:\n",
      "[[120  21]\n",
      " [ 16 133]]\n",
      "Accuracy: 0.8724\n",
      "Recall: 0.8824\n",
      "Precision: 0.8511\n",
      "F1 Score: 0.8664\n"
     ]
    }
   ],
   "source": [
    "from sklearn.tree import DecisionTreeClassifier\n",
    "\n",
    "# Model Trainieren - Entscheidungsbaum\n",
    "model_t = DecisionTreeClassifier(random_state=42)\n",
    "model_t.fit(X_train, y_train)\n",
    "\n",
    "# Predictions/Vorhersagen treffen\n",
    "pred_t = model_t.predict(X_test)\n",
    "\n",
    "# Confusion Matrix brechnen und ausgeben\n",
    "cm_t = confusion_matrix(y_test, pred_t)\n",
    "print(\"Scores - Entscheidungsbaum:\")\n",
    "print(cm_t)\n",
    "print_accuracy(cm_t)\n",
    "print_recall(cm_t)\n",
    "print_precision(cm_t)\n",
    "print_f1_score(cm_t)"
   ]
  },
  {
   "cell_type": "markdown",
   "id": "67069bd3",
   "metadata": {},
   "source": [
    "- Beim Entscheidungsbaum liegt die gesamte Genauigkeit (Accuracy) des Modell beis etwas über 87%.\n",
    "- (Precision) Rund 85% der Häuser, die über dem Marktpreis liegen wurden auch korrekt ermittelt. 15% wurden also fälschlicherweise über dem Marktpreis angesetzt.\n",
    "- (Recall) Rund 88% aller Häuser, die über dem Marktpreis liegen wurden korrekt ermittelt.\n",
    "- (F1-Score) Mit rund 87% ist die Genauigkeit bei der Ermittlung der über dem Marktpreis liegenden Häuser recht genau."
   ]
  },
  {
   "cell_type": "markdown",
   "id": "e7a19051",
   "metadata": {},
   "source": [
    "### 2. Modell Random Forest"
   ]
  },
  {
   "cell_type": "code",
   "execution_count": 40,
   "id": "45a2c671",
   "metadata": {},
   "outputs": [
    {
     "name": "stdout",
     "output_type": "stream",
     "text": [
      "Scores - Random Forest:\n",
      "[[127  14]\n",
      " [ 12 137]]\n",
      "Accuracy: 0.9103\n",
      "Recall: 0.9137\n",
      "Precision: 0.9007\n",
      "F1 Score: 0.9071\n"
     ]
    }
   ],
   "source": [
    "from sklearn.ensemble import RandomForestClassifier\n",
    "\n",
    "# Trainieren des Modells - Random Forest\n",
    "model_f = RandomForestClassifier(random_state=42)\n",
    "model_f.fit(X_train, y_train)\n",
    "\n",
    "# Predictions/Vorhersagen treffen\n",
    "pred_f = model_f.predict(X_test)\n",
    "\n",
    "# Confusion Matrix brechnen und ausgeben\n",
    "cm_f = confusion_matrix(y_test, pred_f)\n",
    "\n",
    "print(\"Scores - Random Forest:\")\n",
    "print(cm_f)\n",
    "print_accuracy(cm_f)\n",
    "print_recall(cm_f)\n",
    "print_precision(cm_f)\n",
    "print_f1_score(cm_f)"
   ]
  },
  {
   "cell_type": "markdown",
   "id": "f34b7497",
   "metadata": {},
   "source": [
    "- Beim Modell Random Forest liegt die gesamte Genauigkeit (Accuracy) etwas höher bei 91%.\n",
    "- (Precision) Rund 90% der Häuser, die über dem Marktpreis liegen wurden auch korrekt ermittelt. Lediglich 10% wurden hier fälschlicherweise über dem Marktpreis angesetzt.\n",
    "- (Recall) Rund 91% aller Häuser, die über dem Marktpreis liegen wurden vom Modell korrekt vorhergesagt.\n",
    "- (F1-Score) Mit rund 90% ist die Genauigkeit bei der Ermittlung der über dem Marktpreis liegenden Häuser recht genau."
   ]
  },
  {
   "cell_type": "markdown",
   "id": "86e2f17e",
   "metadata": {},
   "source": [
    "### 3. Modell Logistische Regression"
   ]
  },
  {
   "cell_type": "code",
   "execution_count": 41,
   "id": "a4162bfd",
   "metadata": {},
   "outputs": [
    {
     "name": "stdout",
     "output_type": "stream",
     "text": [
      "Confusion matrix - Logistische Regression:\n",
      "[[124  17]\n",
      " [ 12 137]]\n",
      "Scores - Logistische Regression:\n",
      "Accuracy: 0.9\n",
      "Recall: 0.9118\n",
      "Precision: 0.8794\n",
      "F1 Score: 0.8953\n"
     ]
    }
   ],
   "source": [
    "from sklearn.linear_model import LogisticRegression\n",
    "from sklearn.pipeline import make_pipeline\n",
    "from sklearn.preprocessing import StandardScaler\n",
    "\n",
    "# Trainieren des Modells - Logistische Regression\n",
    "pipe = make_pipeline(StandardScaler(), LogisticRegression(random_state=42))\n",
    "pipe.fit(X_train, y_train)\n",
    "\n",
    "# Predictions/Vorhersagen treffen\n",
    "pred_l = pipe.predict(X_test)\n",
    "\n",
    "# Confusion Matrix brechnen und ausgeben\n",
    "cm_l = confusion_matrix(y_test, pred_l)\n",
    "print(\"Confusion matrix - Logistische Regression:\")\n",
    "print(cm_l)\n",
    "\n",
    "print(\"Scores - Logistische Regression:\")\n",
    "print(f\"Accuracy: {round(pipe.score(X_test, y_test), 4)}\")\n",
    "print_recall(cm_l)\n",
    "print_precision(cm_l)\n",
    "print_f1_score(cm_l)"
   ]
  },
  {
   "cell_type": "markdown",
   "id": "2920ea01",
   "metadata": {},
   "source": [
    "- Beim Modell Random Forest liegt die gesamte Genauigkeit (Accuracy) etwas höher bei 90%.\n",
    "- (Precision) Rund 88% der Häuser, die über dem Marktpreis liegen wurden auch korrekt ermittelt. 12% wurden hier fälschlicherweise über dem Marktpreis angesetzt.\n",
    "- (Recall) Rund 91% aller Häuser, die über dem Marktpreis liegen wurden vom Modell korrekt vorhergesagt.\n",
    "- (F1-Score) Mit rund 90% ist die Genauigkeit bei der Ermittlung der über dem Marktpreis liegenden Häuser recht genau."
   ]
  },
  {
   "cell_type": "markdown",
   "id": "931dbaa0",
   "metadata": {},
   "source": [
    "### Vergleich/Begründung\n",
    "Im Wesentlichen sind die Ergebnisse der drei angewandten Klassifizierungsmodelle nicht grundlegend unterschiedlich. Alle weisen eine hohe Genauigkeit von über 85% aus. Aber jedes Prozent kann wichtig sein, deswegen hier Begründungen warum die Modelle unterschiedlich performen:\n",
    "\n",
    "#### Entscheidungsbaum vs. Random Forest\n",
    "- Entscheidungsbaum nutzt jeweils nur eine einzelne Variable um am Knotenpunkt eine Entscheidung zu treffen.\n",
    "- Random Forest nutzt jedoch mehrere Bäume und mehrere Variablen, um die Entscheidungen zu treffen (Bessere Erfassung von Zusammenhängen).\n",
    "- Ein Entscheidungsbaum hat tendenziell eine höhere Korrelation, während beim Random Forest die unterschiedlichen Bäume für eine geringere Korrelation sorgen.\n",
    "- Das Random Forest Modell verwendet eine random feature selection für seine Entscheidungsbäume, was wiederrum für eine geringere Korrelation sorgt, da Features zufällig zusammen gestellt werden.\n",
    "\n",
    "#### Random Forest vs. Logistische Regression\n",
    "Random Forest hat etwas besser abgeschnitten als die Logistische Regression. Folgende Unterschiede kennzeichnen die beiden Modell aus:\n",
    "- Anders als beim Entscheidungsbaum oder beim Random Forest gibt die logistische Regression lediglich einen Wahrscheinlichkeitswert dafür an, dass das Haus über oder unter dem Marktpreis liegt, hier könnte man im Modell noch nachjustieren und so eine höhere Genauigkeit erlangen\n",
    "- Random Forest verwendet keine Gewichtungen für die einzelnen Features, die logistische Regression macht das schon. Hier kann auch eine höhere Genauigkeit erzielt werden, sofern die einzelnen Features unterschiedlich schwer ins Gewicht fallen.\n",
    "- Random Forest braucht, da es zahlreiche Entscheidungsbäume generiert und später wieder zusammenführt mehr Rechenleistung, dagen ist die logistische Regression \"schlank\"\n",
    "\n",
    "Letzendlich ist der Random Forest genauer, da die Features relativ \"grob\" sind, es liegen wenige feingranulare Daten vor. Diese könnten bei geringeren Varianzen bei einem Entscheidungsbaum bereits für Störungen sorgen, wohingegen bei einer logistischen Regression daruch bessere Resultate erzielen werden könnten. Dadurch, dass die Daten hier Skalen abbilden, z.B. 1-10 und dazwischen wenig Varianz besteht, kann hier der Random Forest schlussendlich besser performen."
   ]
  }
 ],
 "metadata": {
  "kernelspec": {
   "display_name": "Python 3 (ipykernel)",
   "language": "python",
   "name": "python3"
  },
  "language_info": {
   "codemirror_mode": {
    "name": "ipython",
    "version": 3
   },
   "file_extension": ".py",
   "mimetype": "text/x-python",
   "name": "python",
   "nbconvert_exporter": "python",
   "pygments_lexer": "ipython3",
   "version": "3.10.5"
  }
 },
 "nbformat": 4,
 "nbformat_minor": 5
}
