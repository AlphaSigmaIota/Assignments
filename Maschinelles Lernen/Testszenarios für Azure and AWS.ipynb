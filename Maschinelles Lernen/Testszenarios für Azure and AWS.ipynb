{
 "cells": [
  {
   "cell_type": "markdown",
   "id": "72285e7d-578b-45cc-8a2c-ad1dbd945aef",
   "metadata": {},
   "source": [
    "# Azure vs. AWS\n",
    "[1. Auswahl geeigneter Testszenarien](#Testszenarien)\\\n",
    "[1.1 Testen der Spracherkennung](#Spracherkennung)\\\n",
    "[1.2 Testen der Bilderkennung](#Bilderkennung)\\\n",
    "[2. Textanalyse](#Textanalyse)\\\n",
    "[2.1 Language Detection](#LangDetectionAzure)\\\n",
    "[2.1.1 Language Detection - Azure](#LDAzure)\\\n",
    "[2.1.2 Language Detection - AWS](#LDAWS)\\\n",
    "[2.2 Entity Detection](#EntityDetection)\\\n",
    "[2.2.1 Entity Detection - Azure](#EDAzure)\\\n",
    "[2.2.2 Entity Detection - AWS](#EDAWS)\\\n",
    "[2.3 Schlüsselphrasen](#SPE)\\\n",
    "[2.3.1 Schlüsselphrasen - Azure](#SPEAzure)\\\n",
    "[2.3.2 Schlüsselphrasen - AWS](#SPEAWS)\\\n",
    "[2.4 Sentimentanalyse](#SA)\\\n",
    "[2.4.1 Sentimentanalyse - Azure](#SAAzure)\\\n",
    "[2.4.2 Sentimentanalyse - AWS](#SAAWS)\\\n",
    "[3. Bildanalyse](#Bildanalyse)\\\n",
    "[3.1 DetectFaces](#DetectFaces)\\\n",
    "[3.1.1 DetectFaces - Azure](#DFAzure)\\\n",
    "[3.1.2 DetectFaces - AWZ](#DFAWS)\\\n",
    "[3.2 DetectLabels](#DetectLabels)\\\n",
    "[3.2.1 DetectLabels - Azure](#DLAzure)\\\n",
    "[3.2.2 DetectLabels - AWZ](#DLAWS)\\\n",
    "[3.3 DetectText](#DetectText)\\\n",
    "[3.3.1 DetectText - Azure](#DTAzure)\\\n",
    "[3.3.2 DetectText - AWZ](#DTAWS)\\\n",
    "[3.4 RecognizeCelebrities](#RecognizeCelebrities)\\\n",
    "[3.4.1 RecognizeCelebrities - Azure](#RCAzure)\\\n",
    "[3.4.2 RecognizeCelebrities - AWZ](#RCAWS)\\\n",
    "[4. Zusammenfassung der Tests](#Zusammenfassung)\\\n",
    "[4.1 Gegenüberstellung Textanalysen](#GGText)\\\n",
    "[4.2 Gegenüberstellung Bildanalysen](#GGImage)"
   ]
  },
  {
   "cell_type": "code",
   "execution_count": 1,
   "id": "7d324503-26df-4da7-a6c5-e1cb76c3468a",
   "metadata": {},
   "outputs": [],
   "source": [
    "# Installationen falls notwendig\n",
    "# !pip install boto3\n",
    "# !pip install langcodes\n",
    "# !pip install language_data\n",
    "# !pip install azure-cognitiveservices-vision-face"
   ]
  },
  {
   "cell_type": "code",
   "execution_count": 2,
   "id": "46796a5c-3a73-4928-b176-baab79a88e51",
   "metadata": {},
   "outputs": [],
   "source": [
    "from azure.core.credentials import AzureKeyCredential\n",
    "from msrest.authentication import CognitiveServicesCredentials\n",
    "\n",
    "# Allgemeine Konfiguration der Zugriffsschlüssel\n",
    "azure_key = \"\"\n",
    "azure_endpoint = \"\"\n",
    "azure_credential = AzureKeyCredential(azure_key)\n",
    "azure_cognitive_credentials = CognitiveServicesCredentials(azure_key)\n",
    "\n",
    "AWS_ACCESS_KEY_ID = \"\"\n",
    "AWS_SECRET_ACCESS_KEY = \"\"\n",
    "AWS_REGION = \"\""
   ]
  },
  {
   "cell_type": "markdown",
   "id": "03b7b66b-024c-4dcb-8de7-4607bc59e155",
   "metadata": {},
   "source": [
    "### 1. Auswahl geeigneter Testszenarien <a id='Testszenarien'></a>"
   ]
  },
  {
   "cell_type": "markdown",
   "id": "44a587c3-5c51-497e-b5cd-7ad2be03c4c1",
   "metadata": {},
   "source": [
    "#### Testen der Spracherkennung: <a id='Spracherkennung'></a>\n",
    "\n",
    "**1. Test: Erkennen der Sprache aus einem Text**\n",
    "- Verwendung des Datensets in Language Detection.csv: 200 Zufällige Einträge aus https://www.kaggle.com/datasets/basilb2s/language-detection\n",
    "- Erfassung der Accuracy jeweils von AWS und Azure\n",
    "\n",
    "**2. Test: Entity Erkennung (Namen/Personen, Orte, ...)**\n",
    "- Verwendung eines eigens ausgewählten Textes zur Erkennung von Entitäten, wie Personen, Orte, etc.\n",
    "- Erfassung der Accuracy jeweils von AWS und Azure \n",
    "\n",
    "**3. Test: Schlüsselphrasen extrahieren**\n",
    "- Verwendung eines eigens ausgewählten Textes zur Erkennung von Schlüsselphrasen.\n",
    "- Erfassung der Accuracy jeweils von AWS und Azure\n",
    "\n",
    "**4. Test: Sentimentanalyse**\n",
    "- Verwendung des Datensets  in Sentiment Analysis.csv: 200 Zufällige Einträge aus https://www.kaggle.com/datasets/abhi8923shriv/sentiment-analysis-dataset\n",
    "- Erfassung der Accuracy jeweils von AWS und Azure"
   ]
  },
  {
   "cell_type": "code",
   "execution_count": 3,
   "id": "7d37b2d2-f744-463d-8a64-1737053e55e5",
   "metadata": {},
   "outputs": [],
   "source": [
    "results_text = {\n",
    "    \"language_detection\": {\n",
    "        \"dataset\": \"Language Detection.csv\",\n",
    "        \"aws\": {\n",
    "            \"accuracy\": None  \n",
    "        },\n",
    "        \"azure\": {\n",
    "            \"accuracy\": None \n",
    "        }\n",
    "    },\n",
    "    \"entity_detection\": {\n",
    "        \"text\": \"Am 20. Juli 1969 landete die Apollo-11-Mission der NASA auf dem Mond. Neil Armstrong und Buzz Aldrin waren die ersten Menschen, die den Mond betraten, während Michael Collins im Kommandomodul in der Mondumlaufbahn blieb. Nach ihrer Rückkehr wurden sie als Helden gefeiert und von Präsident Richard Nixon im Weißen Haus empfangen. Die Mondlandung war ein bedeutendes Ereignis im Kalten Krieg und ein großer Sieg für die Vereinigten Staaten gegenüber der Sowjetunion.\",\n",
    "        \"lang\": \"de\",\n",
    "        \"expected_entities\": \"20. Juli 1969;Apollo-11-Mission;NASA;Mond;Neil Armstrong;Buzz Aldrin;ersten Menschen;Mond;Michael Collins;Mondumlaufbahn;Helden;Präsident;Richard Nixon;Weißen Haus;Mondlandung;Kalten Krieg;Vereinigten Staaten;Sowjetunion\",\n",
    "        \"aws\": {\n",
    "            \"accuracy\": None\n",
    "        },\n",
    "        \"azure\": {\n",
    "            \"accuracy\": None\n",
    "        }\n",
    "    },\n",
    "    \"keyphrase_extraction\": {\n",
    "        \"text\": \"Die Globalisierung bezeichnet den Prozess der verstärkten internationalen Vernetzung in den Bereichen Wirtschaft, Politik, Kultur und Umwelt. Sie führt zu einer erhöhten Mobilität von Gütern, Dienstleistungen, Informationen und Menschen über nationale Grenzen hinweg. Während einige Experten die Vorteile der Globalisierung betonen, wie den Zugang zu neuen Märkten und die Steigerung der wirtschaftlichen Effizienz, weisen andere auf die potenziellen Nachteile hin, wie die Ausbeutung von Arbeitskräften in Entwicklungsländern und den Verlust von kultureller Identität. Es ist unbestreitbar, dass die Globalisierung die Welt in vielerlei Hinsicht verändert hat, sowohl positiv als auch negativ.\",\n",
    "        \"lang\": \"de\",\n",
    "        \"expected_entities\": \"Globalisierung;internationalen Vernetzung;Wirtschaft;Politik;Kultur;Umwelt;Mobilität von Gütern;Dienstleistungen;Informationen;Menschen;nationale Grenzen;Zugang zu neuen Märkten;wirtschaftlichen Effizienz;Ausbeutung von Arbeitskräften;Entwicklungsländer;Verlust von kultureller Identität;Vorteile der Globalisierung;potenziellen Nachteile\",\n",
    "        \"aws\": {\n",
    "            \"accuracy\": None\n",
    "        },\n",
    "        \"azure\": {\n",
    "            \"accuracy\": None\n",
    "        }\n",
    "    },\n",
    "    \"sentiment_analysis\": {\n",
    "        \"dataset\": \"Sentiment Analysis.csv\",\n",
    "        \"aws\": {\n",
    "            \"accuracy\": None\n",
    "        },\n",
    "        \"azure\": {\n",
    "            \"accuracy\": None\n",
    "        }\n",
    "    }\n",
    "}"
   ]
  },
  {
   "cell_type": "markdown",
   "id": "89e6c5eb-061e-4b85-8dd7-d74843130470",
   "metadata": {},
   "source": [
    "#### Testen der Bilderkennung: <a id='Bilderkennung'></a>\n",
    "**1. Test: DetectFaces**\n",
    "- 5 Bilder von Menschen auswählen und manuell festlegen, wie viele Gesichter zu sehen sind\n",
    "- Funktion DetectFaces auf die 5 Bilder anwenden\n",
    "- Erfassung der Prozentzahl, wie viele Gesichter jeweils von AWS und Azure erkannt wurden\n",
    "\n",
    "**2. Test: DetectLabels**\n",
    "- 5 Bilder mit Marken auswählen und manuell festlegen, wie viele Labels zu sehen sind\n",
    "- Funktion DetectLabels auf die 5 Bilder anwenden\n",
    "- Erfassung der Prozentzahl, wie viele Labels jeweils von AWS und Azure erkannt wurden\n",
    "\n",
    "**3. Test: DetectText**\n",
    "- 5 Bilder mit mind. einem Text auswählen und manuell festlegen, wie viele Texte zu sehen sind\n",
    "- Funktion DetectText auf die 5 Bilder anwenden\n",
    "- Erfassung der Prozentzahl, wie viele Texte jeweils von AWS und Azure erkannt wurden\n",
    "\n",
    "**4. Test: RecognizeCelebrities**\n",
    "- 5 Bilder mit Promis auswählen und manuell festlegen, wie viele Promis zu sehen sind\n",
    "- Funktion RecognizeCelebrities auf die 5 Bilder anwenden\n",
    "- Erfassung der Prozentzahl, wie viele Promis jeweils von AWS und Azure erkannt wurden"
   ]
  },
  {
   "cell_type": "code",
   "execution_count": 4,
   "id": "0bfcd149-f45b-4679-bafb-e499ba743258",
   "metadata": {},
   "outputs": [],
   "source": [
    "results_images = {\n",
    "    \"DetectFaces\": {\n",
    "        \"images\": [\n",
    "            {\"url\": \"https://www.baer.bayern.de/imperia/md/images/stmas/baer/familie/fittosize_780_f3fcaab3234b0a4362c12d5de4d8b623_klassische_familie.jpg\", \"faces_count\": 4},\n",
    "            {\"url\": \"https://www.scinexx.de/wp-content/uploads/0/1/01-37589-gesichter1.jpg\", \"faces_count\": 7},\n",
    "            {\"url\": \"https://img-s-msn-com.akamaized.net/tenant/amp/entityid/AA1iKLCq.img?w=1920&h=1080&q=60&m=2&f=jpg\", \"faces_count\": 3},\n",
    "            {\"url\": \"https://img-s-msn-com.akamaized.net/tenant/amp/entityid/AA1iKywb.img?w=768&h=384&m=6&x=221&y=18&s=502&d=234\", \"faces_count\": 17},\n",
    "            {\"url\": \"https://img-s-msn-com.akamaized.net/tenant/amp/entityid/AA1fIa2u.img?w=768&h=768&m=6&x=174&y=143&s=806&d=191\", \"faces_count\": 4}\n",
    "        ],\n",
    "        \"aws\": {\n",
    "            \"accuracy\": None\n",
    "        },\n",
    "        \"azure\": {\n",
    "            \"accuracy\": None\n",
    "        }\n",
    "    },\n",
    "    \"DetectLabels\": {\n",
    "        \"images\": [\n",
    "            {\"url\": \"https://images.squarespace-cdn.com/content/v1/5ccbe9ffca525b6794c6bd70/1633943879332-MHCMM4P3FI5K1OVD0MNN/Fanta-Logo.png?format=2500w\"},\n",
    "            {\"url\": \"https://images.squarespace-cdn.com/content/v1/5ccbe9ffca525b6794c6bd70/1633959432109-GJ4LLJB9NCMFD8C6IIDM/Samsung_Logo.png?format=2500w\"},\n",
    "            {\"url\": \"https://images.squarespace-cdn.com/content/v1/5ccbe9ffca525b6794c6bd70/1633959377474-QGI8DP4S6IC6ZRY2C2HY/Hyundai-logo.png?format=2500w\"},\n",
    "            {\"url\": \"https://images.squarespace-cdn.com/content/v1/5ccbe9ffca525b6794c6bd70/1633959317177-HHQJJ5U27Y1TDQLJF20S/Nivea_logo.png?format=2500w\"},\n",
    "            {\"url\": \"https://images.squarespace-cdn.com/content/v1/5ccbe9ffca525b6794c6bd70/1633959267901-4LTPX0K5CZ7C21304IJK/cadillac.png?format=2500w\"}\n",
    "        ],\n",
    "        \"expected_labels\": \"text;symbol;logo\",\n",
    "        \"aws\": {\n",
    "            \"accuracy\": None\n",
    "        },\n",
    "        \"azure\": {\n",
    "            \"accuracy\": None\n",
    "        }\n",
    "    },\n",
    "    \"DetectText\": {\n",
    "        \"images\": [\n",
    "            {\"url\": \"https://images.squarespace-cdn.com/content/v1/5ccbe9ffca525b6794c6bd70/1633943879332-MHCMM4P3FI5K1OVD0MNN/Fanta-Logo.png?format=2500w\", \"label\": \"fanta\"},\n",
    "            {\"url\": \"https://images.squarespace-cdn.com/content/v1/5ccbe9ffca525b6794c6bd70/1633959432109-GJ4LLJB9NCMFD8C6IIDM/Samsung_Logo.png?format=2500w\", \"label\": \"samsung\"},\n",
    "            {\"url\": \"https://images.squarespace-cdn.com/content/v1/5ccbe9ffca525b6794c6bd70/1633959377474-QGI8DP4S6IC6ZRY2C2HY/Hyundai-logo.png?format=2500w\", \"label\": \"hyundai\"},\n",
    "            {\"url\": \"https://images.squarespace-cdn.com/content/v1/5ccbe9ffca525b6794c6bd70/1633959317177-HHQJJ5U27Y1TDQLJF20S/Nivea_logo.png?format=2500w\", \"label\": \"nivea\"},\n",
    "            {\"url\": \"https://images.squarespace-cdn.com/content/v1/5ccbe9ffca525b6794c6bd70/1633959267901-4LTPX0K5CZ7C21304IJK/cadillac.png?format=2500w\", \"label\": \"cadillac\"}\n",
    "        ],\n",
    "        \"aws\": {\n",
    "            \"accuracy\": None\n",
    "        },\n",
    "        \"azure\": {\n",
    "            \"accuracy\": None\n",
    "        }\n",
    "    },\n",
    "    \"RecognizeCelebrities\": {\n",
    "        \"images\": [\n",
    "            {\"url\": \"https://assets.glamour.de/photos/6529452cc4c15aafb32294dd/16:9/w_1920,c_limit/131023-Date-Stacking-Aufmacher.jpg\", \"celebrities\": \"Justin Timberlake;Mila Kunis\"},\n",
    "            {\"url\": \"https://assets.glamour.de/photos/6540cc3cf9083c9861b0fd90/16:9/w_1920,c_limit/311023-Friends-Matthew-Perry-Aufmacher-1.jpg\", \"celebrities\": \"Jennifer Aniston;Courteney Cox;Matt LeBlanc;Matthew Perry;David Schwimmer\"},\n",
    "            {\"url\": \"https://assets.glamour.de/photos/6538eadcd2cfa4d46a5ea4dd/16:9/w_1920,c_limit/25102023-Britney-Spears-The-Woman-in-Me-Aufmacher.jpg\", \"celebrities\": \"Britney Spears\"},\n",
    "            {\"url\": \"https://assets.glamour.de/photos/654a13446629779a70c9317c/16:9/w_1920,c_limit/071123-Bumble-BFF-Aufmacher.jpg\", \"celebrities\": \"Maitreyi Ramakrishnan;Lee Rodriguez;Ramona Young\"},\n",
    "        ],\n",
    "        \"aws\": {\n",
    "            \"accuracy\": None\n",
    "        },\n",
    "        \"azure\": {\n",
    "            \"accuracy\": None\n",
    "        }\n",
    "    }\n",
    "}"
   ]
  },
  {
   "cell_type": "markdown",
   "id": "8761189c-2255-4ab3-8153-4db9c2f8c476",
   "metadata": {},
   "source": [
    "#### 2.1 Language Detection <a id='Textanalyse'></a>"
   ]
  },
  {
   "cell_type": "code",
   "execution_count": 5,
   "id": "59ef5952-82ce-4d04-8bd6-9994e7f59d29",
   "metadata": {},
   "outputs": [],
   "source": [
    "from azure.ai.textanalytics import TextAnalyticsClient\n",
    "import pandas as pd\n",
    "import numpy as np\n",
    "import pickle"
   ]
  },
  {
   "cell_type": "code",
   "execution_count": 6,
   "id": "ce75a94e-90ce-4f5a-bb6d-a0729b7527cc",
   "metadata": {},
   "outputs": [
    {
     "data": {
      "text/html": [
       "<div>\n",
       "<style scoped>\n",
       "    .dataframe tbody tr th:only-of-type {\n",
       "        vertical-align: middle;\n",
       "    }\n",
       "\n",
       "    .dataframe tbody tr th {\n",
       "        vertical-align: top;\n",
       "    }\n",
       "\n",
       "    .dataframe thead th {\n",
       "        text-align: right;\n",
       "    }\n",
       "</style>\n",
       "<table border=\"1\" class=\"dataframe\">\n",
       "  <thead>\n",
       "    <tr style=\"text-align: right;\">\n",
       "      <th></th>\n",
       "      <th>Text</th>\n",
       "      <th>Language</th>\n",
       "    </tr>\n",
       "  </thead>\n",
       "  <tbody>\n",
       "    <tr>\n",
       "      <th>0</th>\n",
       "      <td>Una situación sin sentido es cuando no consigu...</td>\n",
       "      <td>Spanish</td>\n",
       "    </tr>\n",
       "    <tr>\n",
       "      <th>1</th>\n",
       "      <td>[9] نتيجة لطبيعة ويكيبيديا التي تسمح لأي مستخد...</td>\n",
       "      <td>Arabic</td>\n",
       "    </tr>\n",
       "    <tr>\n",
       "      <th>2</th>\n",
       "      <td>üzgünüm.</td>\n",
       "      <td>Turkish</td>\n",
       "    </tr>\n",
       "    <tr>\n",
       "      <th>3</th>\n",
       "      <td>Dieser Traum hat mir klar gemacht, dass ich Es...</td>\n",
       "      <td>German</td>\n",
       "    </tr>\n",
       "    <tr>\n",
       "      <th>4</th>\n",
       "      <td>nu later zwaaiden Mellie en Terry hun oude vri...</td>\n",
       "      <td>Dutch</td>\n",
       "    </tr>\n",
       "    <tr>\n",
       "      <th>...</th>\n",
       "      <td>...</td>\n",
       "      <td>...</td>\n",
       "    </tr>\n",
       "    <tr>\n",
       "      <th>195</th>\n",
       "      <td>மிக்க நன்றி.</td>\n",
       "      <td>Tamil</td>\n",
       "    </tr>\n",
       "    <tr>\n",
       "      <th>196</th>\n",
       "      <td>Según Konanykhin, este modelo financiero asegu...</td>\n",
       "      <td>Spanish</td>\n",
       "    </tr>\n",
       "    <tr>\n",
       "      <th>197</th>\n",
       "      <td>ഞാൻ ചോദിക്കുന്നു, അവസാനം ഞാൻ പറയുന്നു.</td>\n",
       "      <td>Malayalam</td>\n",
       "    </tr>\n",
       "    <tr>\n",
       "      <th>198</th>\n",
       "      <td>[41] Two years later, in 2011, Wales acknowled...</td>\n",
       "      <td>English</td>\n",
       "    </tr>\n",
       "    <tr>\n",
       "      <th>199</th>\n",
       "      <td>não importa se você deseja desejar sorte a alg...</td>\n",
       "      <td>Portugeese</td>\n",
       "    </tr>\n",
       "  </tbody>\n",
       "</table>\n",
       "<p>200 rows × 2 columns</p>\n",
       "</div>"
      ],
      "text/plain": [
       "                                                  Text    Language\n",
       "0    Una situación sin sentido es cuando no consigu...     Spanish\n",
       "1    [9] نتيجة لطبيعة ويكيبيديا التي تسمح لأي مستخد...      Arabic\n",
       "2                                             üzgünüm.     Turkish\n",
       "3    Dieser Traum hat mir klar gemacht, dass ich Es...      German\n",
       "4    nu later zwaaiden Mellie en Terry hun oude vri...       Dutch\n",
       "..                                                 ...         ...\n",
       "195                                       மிக்க நன்றி.       Tamil\n",
       "196  Según Konanykhin, este modelo financiero asegu...     Spanish\n",
       "197             ഞാൻ ചോദിക്കുന്നു, അവസാനം ഞാൻ പറയുന്നു.   Malayalam\n",
       "198  [41] Two years later, in 2011, Wales acknowled...     English\n",
       "199  não importa se você deseja desejar sorte a alg...  Portugeese\n",
       "\n",
       "[200 rows x 2 columns]"
      ]
     },
     "execution_count": 6,
     "metadata": {},
     "output_type": "execute_result"
    }
   ],
   "source": [
    "# Daten laden > Bitte darauf achten, dass die Datei \"Language Detection.csv\" im Ordner beim jupyter Notebook liegt.\n",
    "file_name = results_text['language_detection']['dataset']\n",
    "df_lang_detect = pd.read_csv(file_name)\n",
    "# df_lang_detect = df_lang_detect.sample(n=200)\n",
    "# df_lang_detect.to_csv(file_name, header=True, index=False)\n",
    "df_lang_detect"
   ]
  },
  {
   "cell_type": "code",
   "execution_count": 7,
   "id": "8419ebcd-76b4-4ba5-9b3f-e4e67948e6da",
   "metadata": {},
   "outputs": [
    {
     "data": {
      "text/html": [
       "<div>\n",
       "<style scoped>\n",
       "    .dataframe tbody tr th:only-of-type {\n",
       "        vertical-align: middle;\n",
       "    }\n",
       "\n",
       "    .dataframe tbody tr th {\n",
       "        vertical-align: top;\n",
       "    }\n",
       "\n",
       "    .dataframe thead th {\n",
       "        text-align: right;\n",
       "    }\n",
       "</style>\n",
       "<table border=\"1\" class=\"dataframe\">\n",
       "  <thead>\n",
       "    <tr style=\"text-align: right;\">\n",
       "      <th></th>\n",
       "      <th>Text</th>\n",
       "      <th>Language</th>\n",
       "      <th>LangCode</th>\n",
       "    </tr>\n",
       "  </thead>\n",
       "  <tbody>\n",
       "    <tr>\n",
       "      <th>0</th>\n",
       "      <td>Una situación sin sentido es cuando no consigu...</td>\n",
       "      <td>Spanish</td>\n",
       "      <td>es</td>\n",
       "    </tr>\n",
       "    <tr>\n",
       "      <th>1</th>\n",
       "      <td>[9] نتيجة لطبيعة ويكيبيديا التي تسمح لأي مستخد...</td>\n",
       "      <td>Arabic</td>\n",
       "      <td>ar</td>\n",
       "    </tr>\n",
       "    <tr>\n",
       "      <th>2</th>\n",
       "      <td>üzgünüm.</td>\n",
       "      <td>Turkish</td>\n",
       "      <td>tr</td>\n",
       "    </tr>\n",
       "    <tr>\n",
       "      <th>3</th>\n",
       "      <td>Dieser Traum hat mir klar gemacht, dass ich Es...</td>\n",
       "      <td>German</td>\n",
       "      <td>de</td>\n",
       "    </tr>\n",
       "    <tr>\n",
       "      <th>4</th>\n",
       "      <td>nu later zwaaiden Mellie en Terry hun oude vri...</td>\n",
       "      <td>Dutch</td>\n",
       "      <td>nl</td>\n",
       "    </tr>\n",
       "    <tr>\n",
       "      <th>...</th>\n",
       "      <td>...</td>\n",
       "      <td>...</td>\n",
       "      <td>...</td>\n",
       "    </tr>\n",
       "    <tr>\n",
       "      <th>195</th>\n",
       "      <td>மிக்க நன்றி.</td>\n",
       "      <td>Tamil</td>\n",
       "      <td>ta</td>\n",
       "    </tr>\n",
       "    <tr>\n",
       "      <th>196</th>\n",
       "      <td>Según Konanykhin, este modelo financiero asegu...</td>\n",
       "      <td>Spanish</td>\n",
       "      <td>es</td>\n",
       "    </tr>\n",
       "    <tr>\n",
       "      <th>197</th>\n",
       "      <td>ഞാൻ ചോദിക്കുന്നു, അവസാനം ഞാൻ പറയുന്നു.</td>\n",
       "      <td>Malayalam</td>\n",
       "      <td>ml</td>\n",
       "    </tr>\n",
       "    <tr>\n",
       "      <th>198</th>\n",
       "      <td>[41] Two years later, in 2011, Wales acknowled...</td>\n",
       "      <td>English</td>\n",
       "      <td>en</td>\n",
       "    </tr>\n",
       "    <tr>\n",
       "      <th>199</th>\n",
       "      <td>não importa se você deseja desejar sorte a alg...</td>\n",
       "      <td>Portuguese</td>\n",
       "      <td>pt</td>\n",
       "    </tr>\n",
       "  </tbody>\n",
       "</table>\n",
       "<p>200 rows × 3 columns</p>\n",
       "</div>"
      ],
      "text/plain": [
       "                                                  Text    Language LangCode\n",
       "0    Una situación sin sentido es cuando no consigu...     Spanish       es\n",
       "1    [9] نتيجة لطبيعة ويكيبيديا التي تسمح لأي مستخد...      Arabic       ar\n",
       "2                                             üzgünüm.     Turkish       tr\n",
       "3    Dieser Traum hat mir klar gemacht, dass ich Es...      German       de\n",
       "4    nu later zwaaiden Mellie en Terry hun oude vri...       Dutch       nl\n",
       "..                                                 ...         ...      ...\n",
       "195                                       மிக்க நன்றி.       Tamil       ta\n",
       "196  Según Konanykhin, este modelo financiero asegu...     Spanish       es\n",
       "197             ഞാൻ ചോദിക്കുന്നു, അവസാനം ഞാൻ പറയുന്നു.   Malayalam       ml\n",
       "198  [41] Two years later, in 2011, Wales acknowled...     English       en\n",
       "199  não importa se você deseja desejar sorte a alg...  Portuguese       pt\n",
       "\n",
       "[200 rows x 3 columns]"
      ]
     },
     "execution_count": 7,
     "metadata": {},
     "output_type": "execute_result"
    }
   ],
   "source": [
    "# AWS unterstützt keine Language sondern nur LanguageCodes. Hier ist es sinnvoll eine neue Spalte \"LangCode\" mit entsprechenden Werte zu erstellen.\n",
    "import langcodes\n",
    "\n",
    "df_lang_detect['Language'] = df_lang_detect['Language'].replace('Portugeese', 'Portuguese')\n",
    "df_lang_detect['Language'] = df_lang_detect['Language'].replace('Sweedish', 'Swedish')\n",
    "\n",
    "def get_language_code(language_name):\n",
    "    return langcodes.find(language_name).language\n",
    "\n",
    "df_lang_detect['LangCode'] = df_lang_detect['Language'].apply(get_language_code)\n",
    "df_lang_detect"
   ]
  },
  {
   "cell_type": "markdown",
   "id": "4aa71e6f-f3f9-43e5-ba82-063faf252f35",
   "metadata": {},
   "source": [
    "##### 2.1.1 Language Detection Azure <a id='LDAzure'></a>"
   ]
  },
  {
   "cell_type": "code",
   "execution_count": 8,
   "id": "b4c8c453-2fbd-44dd-891d-51c4d9fd3c78",
   "metadata": {},
   "outputs": [],
   "source": [
    "text_analytics_client_azure = TextAnalyticsClient(endpoint=azure_endpoint, credential=azure_credential)\n",
    "\n",
    "# Die Verarbeitung für Azure muss Stückchenweise erfolgen: max. 100 Texte zeitgleich:\n",
    "batch_size = 100\n",
    "batches = np.array_split(df_lang_detect, len(df_lang_detect) // batch_size + 1)\n",
    "\n",
    "# Liste, in die die Analyseergebnisse geschrieben werden.\n",
    "detected_languages_list = []\n",
    "\n",
    "# Durchlaufen der batches und Abarbeitung\n",
    "for batch in batches:\n",
    "    # batch von 100 Dokumenten zusammenstelle, dabei darf ein Dokument nicht größer als 5120 Zeichen haben. Nachdem aber das Limit bei AWS bei 5000\n",
    "    # Zeichen liegt, wird auch für Azure mit 5000 gearbeitet.\n",
    "    documents = [{'id': str(i), 'text': text.encode('utf-8')[:5000].decode('utf-8', 'ignore')} for i, text in enumerate(batch['Text'], 1)]\n",
    "    # Language Detection für die 100 Dokumente\n",
    "    responses = text_analytics_client_azure.detect_language(documents=documents)\n",
    "\n",
    "    # Jedes Ergebnis in die Liste 'detected_languages_list' schreiben sofern erfolgreich. \n",
    "    # Wenn nicht bleibt ein Wert null. Sollte aber im Idealfall nicht vorkommen.\n",
    "    for resp in responses:\n",
    "        try:\n",
    "            detected_languages_list.append(resp['primary_language'].iso6391_name) \n",
    "        except Exception as e:\n",
    "            print(f\"Fehler beim Ermitteln: {resp}\")\n",
    "            detected_languages_list.append(np.nan) "
   ]
  },
  {
   "cell_type": "code",
   "execution_count": 9,
   "id": "17718115-2103-41c1-9421-ac36ec87226d",
   "metadata": {},
   "outputs": [],
   "source": [
    "# Liste als neue Spalte zum DataFrame hinzufügen, für den späteren Abgleich von Soll und Ist.\n",
    "df_lang_detect['Azure'] = np.nan\n",
    "df_lang_detect['Azure'] = detected_languages_list"
   ]
  },
  {
   "cell_type": "code",
   "execution_count": 10,
   "id": "1adeed0b-ac15-4254-8423-513b489e415d",
   "metadata": {},
   "outputs": [
    {
     "data": {
      "text/html": [
       "<div>\n",
       "<style scoped>\n",
       "    .dataframe tbody tr th:only-of-type {\n",
       "        vertical-align: middle;\n",
       "    }\n",
       "\n",
       "    .dataframe tbody tr th {\n",
       "        vertical-align: top;\n",
       "    }\n",
       "\n",
       "    .dataframe thead th {\n",
       "        text-align: right;\n",
       "    }\n",
       "</style>\n",
       "<table border=\"1\" class=\"dataframe\">\n",
       "  <thead>\n",
       "    <tr style=\"text-align: right;\">\n",
       "      <th></th>\n",
       "      <th>LangCode</th>\n",
       "      <th>Azure</th>\n",
       "      <th>Count</th>\n",
       "    </tr>\n",
       "  </thead>\n",
       "  <tbody>\n",
       "    <tr>\n",
       "      <th>0</th>\n",
       "      <td>da</td>\n",
       "      <td>en</td>\n",
       "      <td>2</td>\n",
       "    </tr>\n",
       "    <tr>\n",
       "      <th>1</th>\n",
       "      <td>pt</td>\n",
       "      <td>en</td>\n",
       "      <td>1</td>\n",
       "    </tr>\n",
       "    <tr>\n",
       "      <th>2</th>\n",
       "      <td>ru</td>\n",
       "      <td>en</td>\n",
       "      <td>1</td>\n",
       "    </tr>\n",
       "  </tbody>\n",
       "</table>\n",
       "</div>"
      ],
      "text/plain": [
       "  LangCode Azure  Count\n",
       "0       da    en      2\n",
       "1       pt    en      1\n",
       "2       ru    en      1"
      ]
     },
     "execution_count": 10,
     "metadata": {},
     "output_type": "execute_result"
    }
   ],
   "source": [
    "# Unstimmigkeiten ausgeben lassen, rein aus Interesse :)\n",
    "grouped = df_lang_detect[df_lang_detect['LangCode'] != df_lang_detect['Azure']]\\\n",
    "            .groupby(['LangCode', 'Azure']).size().reset_index(name='Count')\\\n",
    "            .sort_values(by='Count', ascending=False)\n",
    "grouped"
   ]
  },
  {
   "cell_type": "code",
   "execution_count": 11,
   "id": "bfd29f2e-275a-4d64-9034-47aa51bb3279",
   "metadata": {},
   "outputs": [
    {
     "name": "stdout",
     "output_type": "stream",
     "text": [
      "Azure hat eine Übereinstimmung von 98.0 % bei der Spracherkennung erzielt.\n"
     ]
    }
   ],
   "source": [
    "# Ermittelung des Prozentsatz der Übereinstimmungen\n",
    "def determine_accuracy(df, column_result, column_predicted):\n",
    "    matches = df_lang_detect[column_result] == df_lang_detect[column_predicted]\n",
    "    return matches.mean()\n",
    "\n",
    "# Ergebnis ins Dictionary schreiben\n",
    "matched_result = determine_accuracy(df_lang_detect, 'LangCode', 'Azure')\n",
    "results_text['language_detection']['azure']['accuracy'] = matched_result\n",
    "print (f\"Azure hat eine Übereinstimmung von {matched_result*100} % bei der Spracherkennung erzielt.\")"
   ]
  },
  {
   "cell_type": "markdown",
   "id": "8bbdb162-dcf3-4fa7-b445-94c7af8c80e8",
   "metadata": {},
   "source": [
    "##### 2.1.2 Language Detection - AWS<a id='LDAWS'></a>"
   ]
  },
  {
   "cell_type": "code",
   "execution_count": 12,
   "id": "5ac9f4b7-121c-490d-a3cb-0f1ab340b537",
   "metadata": {},
   "outputs": [],
   "source": [
    "import boto3"
   ]
  },
  {
   "cell_type": "code",
   "execution_count": 13,
   "id": "c15e907b-d2da-4cee-90cc-ad6e699616c3",
   "metadata": {},
   "outputs": [],
   "source": [
    "# AWS-Client erstellen\n",
    "text_analytics_client_aws = boto3.client(\n",
    "    service_name='comprehend',\n",
    "    aws_access_key_id=AWS_ACCESS_KEY_ID,\n",
    "    aws_secret_access_key=AWS_SECRET_ACCESS_KEY,\n",
    "    region_name=AWS_REGION\n",
    ")\n",
    "\n",
    "# Verarbeitung aufteilen in je 25 Dokumenten am Stück == Limitierung bei AWS\n",
    "batch_size = 25 \n",
    "batches = np.array_split(df_lang_detect, len(df_lang_detect) // batch_size + 1)\n",
    "\n",
    "# Liste, in die die Analyseergebnisse geschrieben werden.\n",
    "detected_languages_list = []\n",
    "\n",
    "# Batches durchlaufen und abarbeiten\n",
    "for batch in batches:\n",
    "    # batch von Dokumenten zusammenstellen, dabei darf ein Dokument nicht größer als 5000 Bytes haben (AWS Comprehend-Restriktion)\n",
    "    # Da AWS auf bytes und nicht Zeichen beschränkt wird noch ein encode/decode benötigt (z.B. für Arabische Texte)\n",
    "    documents = [{\"id\": str(i), 'text': text.encode('utf-8')[:5000].decode('utf-8', 'ignore')} for i, text in enumerate(batch['Text'], 1)]\n",
    "\n",
    "    # Language Prediction für die 100 Dokumente\n",
    "    responses = text_analytics_client_aws.batch_detect_dominant_language(TextList=[doc['text'] for doc in documents])\n",
    "\n",
    "    # Jedes Ergebnis in die Liste 'detected_languages_list' schreiben sofern erfolgreich. \n",
    "    # Wenn nicht, bleibt ein Wert null. Sollte aber im Idealfall nicht vorkommen.\n",
    "    for resp in responses['ResultList']:\n",
    "        try:\n",
    "            detected_languages_list.append(resp['Languages'][0]['LanguageCode'])\n",
    "        except Exception as e:\n",
    "            print(f\"Fehler beim Ermitteln: {e}\")\n",
    "            detected_languages_list.append(None)"
   ]
  },
  {
   "cell_type": "code",
   "execution_count": 14,
   "id": "daf9002d-d123-4bb2-8abc-8b9d2b39b39d",
   "metadata": {},
   "outputs": [],
   "source": [
    "# Liste als neue Spalte zum DataFrame hinzufügen, für den späteren Abgleich von Soll und Ist.\n",
    "df_lang_detect['AWS'] = np.nan\n",
    "df_lang_detect['AWS'] = detected_languages_list"
   ]
  },
  {
   "cell_type": "code",
   "execution_count": 15,
   "id": "7ff4feea-93ae-491a-80a1-c9ec3e1ba9b9",
   "metadata": {},
   "outputs": [
    {
     "data": {
      "text/html": [
       "<div>\n",
       "<style scoped>\n",
       "    .dataframe tbody tr th:only-of-type {\n",
       "        vertical-align: middle;\n",
       "    }\n",
       "\n",
       "    .dataframe tbody tr th {\n",
       "        vertical-align: top;\n",
       "    }\n",
       "\n",
       "    .dataframe thead th {\n",
       "        text-align: right;\n",
       "    }\n",
       "</style>\n",
       "<table border=\"1\" class=\"dataframe\">\n",
       "  <thead>\n",
       "    <tr style=\"text-align: right;\">\n",
       "      <th></th>\n",
       "      <th>LangCode</th>\n",
       "      <th>AWS</th>\n",
       "      <th>Count</th>\n",
       "    </tr>\n",
       "  </thead>\n",
       "  <tbody>\n",
       "    <tr>\n",
       "      <th>0</th>\n",
       "      <td>es</td>\n",
       "      <td>it</td>\n",
       "      <td>1</td>\n",
       "    </tr>\n",
       "  </tbody>\n",
       "</table>\n",
       "</div>"
      ],
      "text/plain": [
       "  LangCode AWS  Count\n",
       "0       es  it      1"
      ]
     },
     "execution_count": 15,
     "metadata": {},
     "output_type": "execute_result"
    }
   ],
   "source": [
    "# Auch hier mal einen Blick auf die Unstimmigkeiten werfen.\n",
    "grouped = df_lang_detect[df_lang_detect['LangCode'] != df_lang_detect['AWS']]\\\n",
    "            .groupby(['LangCode', 'AWS']).size().reset_index(name='Count')\\\n",
    "            .sort_values(by='Count', ascending=False)\n",
    "grouped"
   ]
  },
  {
   "cell_type": "code",
   "execution_count": 16,
   "id": "c4e4e2ea-e28b-4071-8b3c-eef74932c3cf",
   "metadata": {},
   "outputs": [
    {
     "name": "stdout",
     "output_type": "stream",
     "text": [
      "AWS hat eine Übereinstimmung von 99.5 % bei der Spracherkennung erzielt.\n"
     ]
    }
   ],
   "source": [
    "# Ergebnis ins Dictionary schreiben:\n",
    "matched_result = determine_accuracy(df_lang_detect, 'LangCode', 'AWS')\n",
    "results_text['language_detection']['aws']['accuracy'] = matched_result\n",
    "print (f\"AWS hat eine Übereinstimmung von {matched_result*100} % bei der Spracherkennung erzielt.\")"
   ]
  },
  {
   "cell_type": "markdown",
   "id": "dee25618-9948-4b0b-8119-84a211a0e128",
   "metadata": {},
   "source": [
    "#### 2.2 Entity Detection <a id='EntityDetection'></a>"
   ]
  },
  {
   "cell_type": "code",
   "execution_count": 17,
   "id": "d99e058a-fb36-4279-a6f3-8632ff219923",
   "metadata": {},
   "outputs": [],
   "source": [
    "# Einlesen des Test-Textes und der Sprache (notwendig für den Funktionsaufruf bei der Cloud)\n",
    "entity_detection_text = results_text['entity_detection']['text']\n",
    "entity_detection_lang = results_text['entity_detection']['lang']\n",
    "entity_detection_expected_entities = results_text['entity_detection']['expected_entities'].split(';')"
   ]
  },
  {
   "cell_type": "code",
   "execution_count": 18,
   "id": "8cb628a6-04d7-4506-863d-6358fb0c1cdf",
   "metadata": {},
   "outputs": [
    {
     "data": {
      "text/plain": [
       "['20. Juli 1969',\n",
       " 'Apollo-11-Mission',\n",
       " 'NASA',\n",
       " 'Mond',\n",
       " 'Neil Armstrong',\n",
       " 'Buzz Aldrin',\n",
       " 'ersten Menschen',\n",
       " 'Mond',\n",
       " 'Michael Collins',\n",
       " 'Mondumlaufbahn',\n",
       " 'Helden',\n",
       " 'Präsident',\n",
       " 'Richard Nixon',\n",
       " 'Weißen Haus',\n",
       " 'Mondlandung',\n",
       " 'Kalten Krieg',\n",
       " 'Vereinigten Staaten',\n",
       " 'Sowjetunion']"
      ]
     },
     "execution_count": 18,
     "metadata": {},
     "output_type": "execute_result"
    }
   ],
   "source": [
    "# Erwartete Entitäten, die gefunden werden sollten\n",
    "entity_detection_expected_entities"
   ]
  },
  {
   "cell_type": "markdown",
   "id": "d3b68ef3-7df2-4340-8ebc-5616fb894206",
   "metadata": {},
   "source": [
    "##### 2.2.1 Entity Detection - Azure <a id='EDAzure'></a>"
   ]
  },
  {
   "cell_type": "code",
   "execution_count": 19,
   "id": "fd8c3ebf-ce09-4e6b-89ca-105f31c9a44f",
   "metadata": {},
   "outputs": [
    {
     "name": "stdout",
     "output_type": "stream",
     "text": [
      "Text: 20., Typ: DateTime, Beginn: 3, Ende: 6\n",
      "Text: Juli 1969, Typ: DateTime, Beginn: 7, Ende: 16\n",
      "Text: Apollo-11-Mission, Typ: Event, Beginn: 29, Ende: 46\n",
      "Text: NASA, Typ: Organization, Beginn: 51, Ende: 55\n",
      "Text: Mond, Typ: Location, Beginn: 64, Ende: 68\n",
      "Text: Neil Armstrong, Typ: Person, Beginn: 70, Ende: 84\n",
      "Text: Buzz Aldrin, Typ: Person, Beginn: 89, Ende: 100\n",
      "Text: ersten, Typ: Numeric, Beginn: 111, Ende: 117\n",
      "Text: Mond, Typ: Location, Beginn: 136, Ende: 140\n",
      "Text: Michael Collins, Typ: Person, Beginn: 159, Ende: 174\n",
      "Text: Mondumlaufbahn, Typ: Skill, Beginn: 199, Ende: 213\n",
      "Text: Helden, Typ: PersonType, Beginn: 256, Ende: 262\n",
      "Text: Richard Nixon, Typ: Person, Beginn: 290, Ende: 303\n",
      "Text: Weißen Haus, Typ: Location, Beginn: 307, Ende: 318\n",
      "Text: Mondlandung, Typ: Event, Beginn: 334, Ende: 345\n",
      "Text: Kalten Krieg, Typ: Event, Beginn: 378, Ende: 390\n",
      "Text: Vereinigten Staaten, Typ: Location, Beginn: 419, Ende: 438\n",
      "Text: Sowjetunion, Typ: Location, Beginn: 453, Ende: 464\n"
     ]
    }
   ],
   "source": [
    "# Entity Detection durchführen\n",
    "result = text_analytics_client_azure.recognize_entities([entity_detection_text])\n",
    "dict_matches_azure = dict.fromkeys(entity_detection_expected_entities, 0)\n",
    "\n",
    "# Entitäten anzeigen lassen\n",
    "for entity in result[0].entities:\n",
    "    if entity.text in dict_matches_azure:\n",
    "        dict_matches_azure[entity.text] = 1\n",
    "    print(f\"Text: {entity.text}, Typ: {entity.category}, Beginn: {entity.offset}, Ende: {entity.offset + entity.length}\")"
   ]
  },
  {
   "cell_type": "code",
   "execution_count": 20,
   "id": "b3292e41-9ee7-4cd9-bcee-82944fc0ebe3",
   "metadata": {},
   "outputs": [
    {
     "name": "stdout",
     "output_type": "stream",
     "text": [
      "Azure hat eine Übereinstimmung von 82.35294117647058 % bei der Entitätenermittlung erzielt.\n"
     ]
    }
   ],
   "source": [
    "# Ergebnis ins Dictionary schreiben:\n",
    "matched_result = sum(value == 1 for value in dict_matches_azure.values())/len(dict_matches_azure)\n",
    "results_text['entity_detection']['azure']['accuracy'] = matched_result\n",
    "print (f\"Azure hat eine Übereinstimmung von {matched_result*100} % bei der Entitätenermittlung erzielt.\")"
   ]
  },
  {
   "cell_type": "markdown",
   "id": "2284647f-1b48-41dc-9fce-ee6f232dfc73",
   "metadata": {},
   "source": [
    "##### 2.2.2 Entity Detection - AWS<a id='EDAWS'></a>"
   ]
  },
  {
   "cell_type": "code",
   "execution_count": 21,
   "id": "82949334-8962-42d5-9041-704c55216173",
   "metadata": {},
   "outputs": [
    {
     "name": "stdout",
     "output_type": "stream",
     "text": [
      "Text: 20. Juli 1969, Typ: DATE, Beginn: 3, Ende: 16\n",
      "Text: Apollo-11-Mission, Typ: COMMERCIAL_ITEM, Beginn: 29, Ende: 46\n",
      "Text: NASA, Typ: ORGANIZATION, Beginn: 51, Ende: 55\n",
      "Text: Mond, Typ: LOCATION, Beginn: 64, Ende: 68\n",
      "Text: Neil Armstrong, Typ: PERSON, Beginn: 70, Ende: 84\n",
      "Text: Buzz Aldrin, Typ: PERSON, Beginn: 89, Ende: 100\n",
      "Text: ersten Menschen, Typ: QUANTITY, Beginn: 111, Ende: 126\n",
      "Text: Mond, Typ: LOCATION, Beginn: 136, Ende: 140\n",
      "Text: Michael Collins, Typ: PERSON, Beginn: 159, Ende: 174\n",
      "Text: Präsident, Typ: PERSON, Beginn: 280, Ende: 289\n",
      "Text: Richard Nixon, Typ: PERSON, Beginn: 290, Ende: 303\n",
      "Text: Weißen Haus, Typ: LOCATION, Beginn: 307, Ende: 318\n",
      "Text: Mondlandung, Typ: EVENT, Beginn: 334, Ende: 345\n",
      "Text: Kalten Krieg, Typ: EVENT, Beginn: 378, Ende: 390\n",
      "Text: Vereinigten Staaten, Typ: ORGANIZATION, Beginn: 419, Ende: 438\n",
      "Text: Sowjetunion, Typ: ORGANIZATION, Beginn: 453, Ende: 464\n"
     ]
    }
   ],
   "source": [
    "# Entity Detection durchführen\n",
    "response = text_analytics_client_aws.detect_entities(Text=entity_detection_text, LanguageCode=entity_detection_lang)\n",
    "dict_matches_aws = dict.fromkeys(entity_detection_expected_entities, 0)\n",
    "\n",
    "# Entitäten anzeigen lassen\n",
    "entities = response['Entities']\n",
    "for entity in entities:\n",
    "    if entity['Text'] in dict_matches_aws:\n",
    "        dict_matches_aws[entity['Text']] = 1\n",
    "    print(f\"Text: {entity['Text']}, Typ: {entity['Type']}, Beginn: {entity['BeginOffset']}, Ende: {entity['EndOffset']}\")"
   ]
  },
  {
   "cell_type": "code",
   "execution_count": 23,
   "id": "07a2caa8-f0a1-4e4f-8a57-ae7bd7a23410",
   "metadata": {},
   "outputs": [
    {
     "name": "stdout",
     "output_type": "stream",
     "text": [
      "AWS hat eine Übereinstimmung von 88.23529411764706 % bei der Entitätenermittlung erzielt.\n"
     ]
    }
   ],
   "source": [
    "# Ergebnis ins Dictionary schreiben\n",
    "matched_result = sum(value == 1 for value in dict_matches_aws.values())/len(dict_matches_azure)\n",
    "results_text['entity_detection']['aws']['accuracy'] = matched_result\n",
    "print (f\"AWS hat eine Übereinstimmung von {matched_result*100} % bei der Entitätenermittlung erzielt.\")"
   ]
  },
  {
   "cell_type": "markdown",
   "id": "b4e78b04-ea03-4e80-acdf-7a832f89fce2",
   "metadata": {},
   "source": [
    "#### 2.3 Schlüsselphrasen <a id='SPE'></a>"
   ]
  },
  {
   "cell_type": "code",
   "execution_count": 24,
   "id": "d89f4f1a-ee1d-482f-aaf0-4adec0aa13b4",
   "metadata": {},
   "outputs": [
    {
     "data": {
      "text/plain": [
       "['Globalisierung',\n",
       " 'internationalen Vernetzung',\n",
       " 'Wirtschaft',\n",
       " 'Politik',\n",
       " 'Kultur',\n",
       " 'Umwelt',\n",
       " 'Mobilität von Gütern',\n",
       " 'Dienstleistungen',\n",
       " 'Informationen',\n",
       " 'Menschen',\n",
       " 'nationale Grenzen',\n",
       " 'Zugang zu neuen Märkten',\n",
       " 'wirtschaftlichen Effizienz',\n",
       " 'Ausbeutung von Arbeitskräften',\n",
       " 'Entwicklungsländer',\n",
       " 'Verlust von kultureller Identität',\n",
       " 'Vorteile der Globalisierung',\n",
       " 'potenziellen Nachteile']"
      ]
     },
     "execution_count": 24,
     "metadata": {},
     "output_type": "execute_result"
    }
   ],
   "source": [
    "# Einlesen der notwendigen Daten aus dem Test-Dictionary\n",
    "keyphrase_extraction_text = results_text['keyphrase_extraction']['text']\n",
    "keyphrase_extraction_lang = results_text['keyphrase_extraction']['lang']\n",
    "keyphrase_detection_expected_entities = results_text['keyphrase_extraction']['expected_entities'].split(';')\n",
    "keyphrase_detection_expected_entities"
   ]
  },
  {
   "cell_type": "markdown",
   "id": "0031d2e4-4230-4a12-a2cc-0a5f707a126a",
   "metadata": {},
   "source": [
    "##### 2.3.1 Schlüsselphrasen - Azure <a id='SPEAzure'></a>"
   ]
  },
  {
   "cell_type": "code",
   "execution_count": 25,
   "id": "4c7a2641-9941-4363-8a90-7573a216f85b",
   "metadata": {},
   "outputs": [],
   "source": [
    "# Schlüsselphrasen-Detection durchführen\n",
    "response_azure = text_analytics_client_azure.extract_key_phrases([keyphrase_extraction_text])"
   ]
  },
  {
   "cell_type": "code",
   "execution_count": 26,
   "id": "6099d63f-5307-4115-a092-91b25a19da0e",
   "metadata": {},
   "outputs": [
    {
     "name": "stdout",
     "output_type": "stream",
     "text": [
      "Ermittelte Schlüsselphrasen von Azure: ['verstärkten internationalen Vernetzung', 'erhöhten Mobilität', 'neuen Märkten', 'kultureller Identität', 'Gütern, Dienstleistungen', 'nationale Grenzen', 'wirtschaftlichen Effizienz', 'potenziellen Nachteile', 'Arbeitskräften', 'Entwicklungsländern', 'vielerlei Hinsicht', 'Globalisierung', 'Prozess', 'Bereichen', 'Politik', 'Umwelt', 'Informationen', 'Menschen', 'Experten', 'Vorteile', 'Zugang', 'Steigerung', 'Ausbeutung', 'Verlust']\n"
     ]
    }
   ],
   "source": [
    "# keyphrase_detection_expected_entities enthält die Liste der sinnvollen Schlüsselphrasen, die im Vorfeld festgelegt wurden.\n",
    "dict_matches_azure = dict.fromkeys(keyphrase_detection_expected_entities, 0)\n",
    "\n",
    "# Schlüsselphrasen anzeigen lassen\n",
    "key_phrases_azure = response_azure[0]['key_phrases']\n",
    "print(f\"Ermittelte Schlüsselphrasen von Azure: {key_phrases_azure}\")"
   ]
  },
  {
   "cell_type": "code",
   "execution_count": 27,
   "id": "5b37ed62-5754-4793-89a4-aac00ac58600",
   "metadata": {},
   "outputs": [
    {
     "name": "stdout",
     "output_type": "stream",
     "text": [
      "Schlüsselphrase: Globalisierung, Treffer: 1\n",
      "Schlüsselphrase: internationalen Vernetzung, Treffer: 1\n",
      "Schlüsselphrase: Wirtschaft, Treffer: 1\n",
      "Schlüsselphrase: Politik, Treffer: 1\n",
      "Schlüsselphrase: Kultur, Treffer: 1\n",
      "Schlüsselphrase: Umwelt, Treffer: 1\n",
      "Schlüsselphrase: Mobilität von Gütern, Treffer: 0\n",
      "Schlüsselphrase: Dienstleistungen, Treffer: 1\n",
      "Schlüsselphrase: Informationen, Treffer: 1\n",
      "Schlüsselphrase: Menschen, Treffer: 1\n",
      "Schlüsselphrase: nationale Grenzen, Treffer: 1\n",
      "Schlüsselphrase: Zugang zu neuen Märkten, Treffer: 1\n",
      "Schlüsselphrase: wirtschaftlichen Effizienz, Treffer: 1\n",
      "Schlüsselphrase: Ausbeutung von Arbeitskräften, Treffer: 1\n",
      "Schlüsselphrase: Entwicklungsländer, Treffer: 1\n",
      "Schlüsselphrase: Verlust von kultureller Identität, Treffer: 1\n",
      "Schlüsselphrase: Vorteile der Globalisierung, Treffer: 1\n",
      "Schlüsselphrase: potenziellen Nachteile, Treffer: 1\n"
     ]
    }
   ],
   "source": [
    "for expected_phrase in keyphrase_detection_expected_entities:\n",
    "    #print(f\"expected {expected_phrase}\")\n",
    "    for detected_phrase in key_phrases_azure:\n",
    "        #print(detected_phrase)\n",
    "        # Vergleich unter Berücksichtigung der Groß- und Kleinschreibung\n",
    "        if (detected_phrase.lower() in expected_phrase.lower()) or (expected_phrase.lower() in detected_phrase.lower()):\n",
    "            dict_matches_azure[expected_phrase] = 1\n",
    "            break\n",
    "\n",
    "# Ausgabe der Schlüsselphrasen inkl. ob die Phrase richtig ermittelt wurde oder nicht.\n",
    "for key_phrase, hits in dict_matches_azure.items():\n",
    "    print(f\"Schlüsselphrase: {key_phrase}, Treffer: {hits}\")"
   ]
  },
  {
   "cell_type": "code",
   "execution_count": 28,
   "id": "c7b80e62-0626-4025-b23b-9fb651c145a7",
   "metadata": {},
   "outputs": [
    {
     "name": "stdout",
     "output_type": "stream",
     "text": [
      "Azure hat eine Übereinstimmung von 94.44444444444444 % bei der Schlüsselphrasenermittlung erzielt.\n"
     ]
    }
   ],
   "source": [
    "# Schreiben der Ergebnisse ins Dictionary\n",
    "matched_result = sum(value == 1 for value in dict_matches_azure.values())/len(keyphrase_detection_expected_entities)\n",
    "results_text['keyphrase_extraction']['azure']['accuracy'] = matched_result\n",
    "print (f\"Azure hat eine Übereinstimmung von {matched_result*100} % bei der Schlüsselphrasenermittlung erzielt.\")"
   ]
  },
  {
   "cell_type": "markdown",
   "id": "625d79df-87d9-4e23-a9f9-816dc1c81d74",
   "metadata": {},
   "source": [
    "##### 2.3.2 Schlüsselphrasen - AWS <a id='SPEAWS'></a>"
   ]
  },
  {
   "cell_type": "code",
   "execution_count": 29,
   "id": "164cb7fd-9824-4cdd-9e59-7d61175a7817",
   "metadata": {},
   "outputs": [],
   "source": [
    "# Schlüsselphrasen-Detection durchführen\n",
    "response_aws = text_analytics_client_aws.detect_key_phrases(Text=keyphrase_extraction_text, LanguageCode=keyphrase_extraction_lang)"
   ]
  },
  {
   "cell_type": "code",
   "execution_count": 30,
   "id": "088c0f25-f373-42a3-a324-0f38f9a2e8cb",
   "metadata": {},
   "outputs": [
    {
     "name": "stdout",
     "output_type": "stream",
     "text": [
      "Ermittelte Schlüsselphrasen von aws[{'Score': 0.9998537302017212, 'Text': 'Die Globalisierung', 'BeginOffset': 0, 'EndOffset': 18}, {'Score': 0.997101902961731, 'Text': 'den Prozess der verstärkten internationalen Vernetzung in den Bereichen', 'BeginOffset': 30, 'EndOffset': 101}, {'Score': 0.6630568504333496, 'Text': 'Wirtschaft', 'BeginOffset': 102, 'EndOffset': 112}, {'Score': 0.9969643950462341, 'Text': 'Politik', 'BeginOffset': 114, 'EndOffset': 121}, {'Score': 0.9979875087738037, 'Text': 'Kultur', 'BeginOffset': 123, 'EndOffset': 129}, {'Score': 0.9996041655540466, 'Text': 'Umwelt', 'BeginOffset': 134, 'EndOffset': 140}, {'Score': 0.9999759197235107, 'Text': 'Sie', 'BeginOffset': 142, 'EndOffset': 145}, {'Score': 0.9939771890640259, 'Text': 'einer erhöhten Mobilität von Gütern', 'BeginOffset': 155, 'EndOffset': 190}, {'Score': 0.6064311861991882, 'Text': 'Dienstleistungen', 'BeginOffset': 192, 'EndOffset': 208}, {'Score': 0.5957096815109253, 'Text': 'Informationen', 'BeginOffset': 210, 'EndOffset': 223}, {'Score': 0.8361455202102661, 'Text': 'Menschen', 'BeginOffset': 228, 'EndOffset': 236}, {'Score': 0.7132887840270996, 'Text': 'nationale Grenzen', 'BeginOffset': 242, 'EndOffset': 259}, {'Score': 0.99964839220047, 'Text': 'einige Experten', 'BeginOffset': 276, 'EndOffset': 291}, {'Score': 0.9993765354156494, 'Text': 'die Vorteile der Globalisierung', 'BeginOffset': 292, 'EndOffset': 323}, {'Score': 0.9946058392524719, 'Text': 'den Zugang zu neuen Märkten', 'BeginOffset': 337, 'EndOffset': 364}, {'Score': 0.9997793436050415, 'Text': 'die Steigerung der wirtschaftlichen Effizienz', 'BeginOffset': 369, 'EndOffset': 414}, {'Score': 0.9996896982192993, 'Text': 'andere', 'BeginOffset': 423, 'EndOffset': 429}, {'Score': 0.9993804097175598, 'Text': 'die potenziellen Nachteile', 'BeginOffset': 434, 'EndOffset': 460}, {'Score': 0.9691938161849976, 'Text': ', wie die Ausbeutung von Arbeitskräften in Entwicklungsländern', 'BeginOffset': 464, 'EndOffset': 526}, {'Score': 0.9998472929000854, 'Text': 'den Verlust von kultureller Identität', 'BeginOffset': 531, 'EndOffset': 568}, {'Score': 0.999981164932251, 'Text': 'Es', 'BeginOffset': 570, 'EndOffset': 572}, {'Score': 0.9999668598175049, 'Text': 'die Globalisierung', 'BeginOffset': 597, 'EndOffset': 615}, {'Score': 0.9998366236686707, 'Text': 'die Welt', 'BeginOffset': 616, 'EndOffset': 624}, {'Score': 0.9911478757858276, 'Text': 'vielerlei Hinsicht', 'BeginOffset': 628, 'EndOffset': 646}]\n"
     ]
    }
   ],
   "source": [
    "dict_matches_aws = dict.fromkeys(keyphrase_detection_expected_entities, 0)\n",
    "\n",
    "# Schlüsselphrasen anzeigen lassen\n",
    "key_phrases_aws = response_aws['KeyPhrases']\n",
    "print(f\"Ermittelte Schlüsselphrasen von aws{key_phrases_aws}\")"
   ]
  },
  {
   "cell_type": "code",
   "execution_count": 31,
   "id": "ea04f671-ff84-4fb8-b854-323393cde1a4",
   "metadata": {},
   "outputs": [
    {
     "name": "stdout",
     "output_type": "stream",
     "text": [
      "Schlüsselphrase: Globalisierung, Treffer: 1\n",
      "Schlüsselphrase: internationalen Vernetzung, Treffer: 1\n",
      "Schlüsselphrase: Wirtschaft, Treffer: 1\n",
      "Schlüsselphrase: Politik, Treffer: 1\n",
      "Schlüsselphrase: Kultur, Treffer: 1\n",
      "Schlüsselphrase: Umwelt, Treffer: 1\n",
      "Schlüsselphrase: Mobilität von Gütern, Treffer: 1\n",
      "Schlüsselphrase: Dienstleistungen, Treffer: 1\n",
      "Schlüsselphrase: Informationen, Treffer: 1\n",
      "Schlüsselphrase: Menschen, Treffer: 1\n",
      "Schlüsselphrase: nationale Grenzen, Treffer: 1\n",
      "Schlüsselphrase: Zugang zu neuen Märkten, Treffer: 1\n",
      "Schlüsselphrase: wirtschaftlichen Effizienz, Treffer: 1\n",
      "Schlüsselphrase: Ausbeutung von Arbeitskräften, Treffer: 1\n",
      "Schlüsselphrase: Entwicklungsländer, Treffer: 1\n",
      "Schlüsselphrase: Verlust von kultureller Identität, Treffer: 1\n",
      "Schlüsselphrase: Vorteile der Globalisierung, Treffer: 1\n",
      "Schlüsselphrase: potenziellen Nachteile, Treffer: 1\n"
     ]
    }
   ],
   "source": [
    "for expected_phrase in keyphrase_detection_expected_entities:\n",
    "    for detected_phrase in key_phrases_aws:\n",
    "        # Vergleich unter Berücksichtigung der Groß- und Kleinschreibung\n",
    "        if (detected_phrase['Text'].lower() in expected_phrase.lower()) or (expected_phrase.lower() in detected_phrase['Text'].lower()):\n",
    "            dict_matches_aws[expected_phrase] = 1\n",
    "            break\n",
    "\n",
    "# Ausgabe der Schlüsselphrasen inkl. ob die Phrase richtig ermittelt wurde oder nicht.\n",
    "for key_phrase, hits in dict_matches_aws.items():\n",
    "    print(f\"Schlüsselphrase: {key_phrase}, Treffer: {hits}\")"
   ]
  },
  {
   "cell_type": "code",
   "execution_count": 32,
   "id": "c6fb31c0-bac0-4296-bbfa-7f1320551d15",
   "metadata": {},
   "outputs": [
    {
     "name": "stdout",
     "output_type": "stream",
     "text": [
      "aws hat eine Übereinstimmung von 100.0 % bei der Schlüsselphrasenermittlung erzielt.\n"
     ]
    }
   ],
   "source": [
    "# Ergebnisse ins Dictionary schreiben\n",
    "matched_result = sum(value == 1 for value in dict_matches_aws.values())/len(keyphrase_detection_expected_entities)\n",
    "results_text['keyphrase_extraction']['aws']['accuracy'] = matched_result\n",
    "print (f\"aws hat eine Übereinstimmung von {matched_result*100} % bei der Schlüsselphrasenermittlung erzielt.\")"
   ]
  },
  {
   "cell_type": "markdown",
   "id": "c01904c8-e957-4c11-9438-2cbdc4bec292",
   "metadata": {},
   "source": [
    "#### 2.4 Sentimentanalyse <a id='SA'></a>"
   ]
  },
  {
   "cell_type": "code",
   "execution_count": 33,
   "id": "415dc786-a509-4a8f-a605-fa7b65beef74",
   "metadata": {},
   "outputs": [
    {
     "data": {
      "text/html": [
       "<div>\n",
       "<style scoped>\n",
       "    .dataframe tbody tr th:only-of-type {\n",
       "        vertical-align: middle;\n",
       "    }\n",
       "\n",
       "    .dataframe tbody tr th {\n",
       "        vertical-align: top;\n",
       "    }\n",
       "\n",
       "    .dataframe thead th {\n",
       "        text-align: right;\n",
       "    }\n",
       "</style>\n",
       "<table border=\"1\" class=\"dataframe\">\n",
       "  <thead>\n",
       "    <tr style=\"text-align: right;\">\n",
       "      <th></th>\n",
       "      <th>text</th>\n",
       "      <th>sentiment</th>\n",
       "    </tr>\n",
       "  </thead>\n",
       "  <tbody>\n",
       "    <tr>\n",
       "      <th>0</th>\n",
       "      <td>Proudly watching my film  http://bit.ly/dP2Uh</td>\n",
       "      <td>positive</td>\n",
       "    </tr>\n",
       "    <tr>\n",
       "      <th>1</th>\n",
       "      <td>I don`t get it...</td>\n",
       "      <td>neutral</td>\n",
       "    </tr>\n",
       "    <tr>\n",
       "      <th>2</th>\n",
       "      <td>- No work, but gotta be here till 9pm  Enna k...</td>\n",
       "      <td>negative</td>\n",
       "    </tr>\n",
       "    <tr>\n",
       "      <th>3</th>\n",
       "      <td>just got Home from school!  it was fun ) oh bt...</td>\n",
       "      <td>positive</td>\n",
       "    </tr>\n",
       "    <tr>\n",
       "      <th>4</th>\n",
       "      <td>_oliver whats for breaky then, russtle somethi...</td>\n",
       "      <td>neutral</td>\n",
       "    </tr>\n",
       "    <tr>\n",
       "      <th>...</th>\n",
       "      <td>...</td>\n",
       "      <td>...</td>\n",
       "    </tr>\n",
       "    <tr>\n",
       "      <th>195</th>\n",
       "      <td>I`m with ya....  doesn`t  follow me either</td>\n",
       "      <td>neutral</td>\n",
       "    </tr>\n",
       "    <tr>\n",
       "      <th>196</th>\n",
       "      <td>we can sail around the world, you and me baby...</td>\n",
       "      <td>neutral</td>\n",
       "    </tr>\n",
       "    <tr>\n",
       "      <th>197</th>\n",
       "      <td>of couuuurse fika  i`ll pray thes best for yo...</td>\n",
       "      <td>neutral</td>\n",
       "    </tr>\n",
       "    <tr>\n",
       "      <th>198</th>\n",
       "      <td>Good morning! I`m just woke up it`s Mother`s Day</td>\n",
       "      <td>positive</td>\n",
       "    </tr>\n",
       "    <tr>\n",
       "      <th>199</th>\n",
       "      <td>Boreedd</td>\n",
       "      <td>negative</td>\n",
       "    </tr>\n",
       "  </tbody>\n",
       "</table>\n",
       "<p>200 rows × 2 columns</p>\n",
       "</div>"
      ],
      "text/plain": [
       "                                                  text sentiment\n",
       "0        Proudly watching my film  http://bit.ly/dP2Uh  positive\n",
       "1                                    I don`t get it...   neutral\n",
       "2     - No work, but gotta be here till 9pm  Enna k...  negative\n",
       "3    just got Home from school!  it was fun ) oh bt...  positive\n",
       "4    _oliver whats for breaky then, russtle somethi...   neutral\n",
       "..                                                 ...       ...\n",
       "195         I`m with ya....  doesn`t  follow me either   neutral\n",
       "196   we can sail around the world, you and me baby...   neutral\n",
       "197   of couuuurse fika  i`ll pray thes best for yo...   neutral\n",
       "198   Good morning! I`m just woke up it`s Mother`s Day  positive\n",
       "199                                            Boreedd  negative\n",
       "\n",
       "[200 rows x 2 columns]"
      ]
     },
     "execution_count": 33,
     "metadata": {},
     "output_type": "execute_result"
    }
   ],
   "source": [
    "# Daten laden > Bitte darauf achten, dass die Datei Sentiment Analysis.csv im Ordner beim jupyter Notebook liegt.\n",
    "file_name = results_text['sentiment_analysis']['dataset']\n",
    "df_sentiment_analyse = pd.read_csv(file_name, delimiter=',', encoding='ISO-8859-1')\n",
    "df_sentiment_analyse"
   ]
  },
  {
   "cell_type": "markdown",
   "id": "11faaa00-f0b9-4b32-9b4e-6110ca5fc568",
   "metadata": {},
   "source": [
    "##### 2.4.1 Sentimentanalyse - Azure <a id='SAAzure'></a>"
   ]
  },
  {
   "cell_type": "code",
   "execution_count": 34,
   "id": "b5d20c79-eb2d-4340-aba0-2f6e0bee717a",
   "metadata": {},
   "outputs": [],
   "source": [
    "#Aufteilung in Batches je 10 Texte für die Analyse\n",
    "batch_size = 10\n",
    "batches = np.array_split(df_sentiment_analyse, len(df_sentiment_analyse) // batch_size + 1)\n",
    "\n",
    "# Liste, in die die Analyseergebnisse geschrieben werden.\n",
    "sentiment_results_list_azure = []\n",
    "\n",
    "# Batches abarbeiten\n",
    "for batch in batches:\n",
    "    # batch von Dokumenten zusammenstellen\n",
    "    documents = [{'id': str(i), 'text': text} for i, text in enumerate(batch['text'], 1)]\n",
    "    try:\n",
    "        # Sentiment-Analyse für die Dokumente des Batches\n",
    "        response_azure = text_analytics_client_azure.analyze_sentiment(documents=[doc['text'] for doc in documents])\n",
    "        sentiment_results_list_azure.extend(response_azure)\n",
    "    except HttpResponseError as e:\n",
    "        print(f\"Fehler bei der Sentiment-Analyse: {e}\")"
   ]
  },
  {
   "cell_type": "code",
   "execution_count": 35,
   "id": "c1a455a7-8d24-4eea-b611-4994800cfc3e",
   "metadata": {},
   "outputs": [],
   "source": [
    "matches = 0\n",
    "\n",
    "# Sicherstellen, dass die Länge der Ergebnisliste der Anzahl der Zeilen im DataFrame entspricht - Sicher ist sicher :) \n",
    "if len(sentiment_results_list_azure) == len(df_sentiment_analyse):\n",
    "    for idx, document in enumerate(sentiment_results_list_azure):\n",
    "        # Vergleichen Sie das erkannte Sentiment mit dem im DataFrame\n",
    "        if df_sentiment_analyse.iloc[idx]['sentiment'].lower() == document.sentiment.lower():\n",
    "            matches += 1\n",
    "else:\n",
    "    print(\"Die Anzahl der Ergebnisse entspricht nicht der Anzahl der Zeilen im DataFrame.\")"
   ]
  },
  {
   "cell_type": "code",
   "execution_count": 36,
   "id": "48ac9d46-d1bd-4cfb-b3e6-e3a7617f7355",
   "metadata": {},
   "outputs": [
    {
     "name": "stdout",
     "output_type": "stream",
     "text": [
      "Azure hat eine Übereinstimmung von 65.0 % bei der Sentimentanalyse erzielt.\n"
     ]
    }
   ],
   "source": [
    "# Schreiben des Ergebnisses ins Dictionary\n",
    "matched_result = matches/len(df_sentiment_analyse)\n",
    "results_text['sentiment_analysis']['azure']['accuracy'] = matched_result\n",
    "print (f\"Azure hat eine Übereinstimmung von {matched_result*100} % bei der Sentimentanalyse erzielt.\")"
   ]
  },
  {
   "cell_type": "markdown",
   "id": "bab55974-0f78-4649-a450-b3f7b9cc4c06",
   "metadata": {},
   "source": [
    "##### 2.4.2 Sentimentanalyse - AWS <a id='SAAWS'></a>"
   ]
  },
  {
   "cell_type": "code",
   "execution_count": 37,
   "id": "10ea0825-f6ef-4328-a459-1ead44a249d0",
   "metadata": {},
   "outputs": [],
   "source": [
    "# Ergebnisliste\n",
    "sentiment_results_list_aws = []\n",
    "\n",
    "# Batches nacheinander abarbeiten\n",
    "for batch in batches:\n",
    "    documents = [text for text in batch['text']]\n",
    "    # Sentimentanalyse duchführen\n",
    "    response_aws = text_analytics_client_aws.batch_detect_sentiment(TextList=documents, LanguageCode='en')\n",
    "    # Ergebnisliste Fortschreiben\n",
    "    sentiment_results_list_aws.extend(response_aws['ResultList'])"
   ]
  },
  {
   "cell_type": "code",
   "execution_count": 38,
   "id": "309e3931-ec52-4e77-a78a-2c5682466590",
   "metadata": {},
   "outputs": [],
   "source": [
    "matches = 0\n",
    "\n",
    "# Sicherstellen, dass die Länge der Ergebnisliste der Anzahl der Zeilen im DataFrame entspricht - Sicher ist sicher :) \n",
    "if len(sentiment_results_list_aws) == len(df_sentiment_analyse):\n",
    "    for idx, document in enumerate(sentiment_results_list_aws):\n",
    "        # Vergleichen Sie das erkannte Sentiment mit dem im DataFrame\n",
    "        if df_sentiment_analyse.iloc[idx]['sentiment'].lower() == document['Sentiment'].lower():\n",
    "            matches += 1\n",
    "else:\n",
    "    print(\"Die Anzahl der Ergebnisse entspricht nicht der Anzahl der Zeilen im DataFrame.\")"
   ]
  },
  {
   "cell_type": "code",
   "execution_count": 39,
   "id": "b5ee9533-9a5a-4a1a-bf27-d3cf49f957e3",
   "metadata": {},
   "outputs": [
    {
     "name": "stdout",
     "output_type": "stream",
     "text": [
      "aws eine Übereinstimmung von 62.0 % bei der Sentimentanalyse erzielt.\n"
     ]
    }
   ],
   "source": [
    "# Ergebnis speichern für später\n",
    "matched_result = matches/len(df_sentiment_analyse)\n",
    "results_text['sentiment_analysis']['aws']['accuracy'] = matched_result\n",
    "print (f\"aws eine Übereinstimmung von {matched_result*100} % bei der Sentimentanalyse erzielt.\")"
   ]
  },
  {
   "cell_type": "code",
   "execution_count": 40,
   "id": "18671dbf-280c-4b48-9dcb-229f31a0661d",
   "metadata": {},
   "outputs": [
    {
     "data": {
      "text/plain": [
       "{'language_detection': {'dataset': 'Language Detection.csv',\n",
       "  'aws': {'accuracy': 0.995},\n",
       "  'azure': {'accuracy': 0.98}},\n",
       " 'entity_detection': {'text': 'Am 20. Juli 1969 landete die Apollo-11-Mission der NASA auf dem Mond. Neil Armstrong und Buzz Aldrin waren die ersten Menschen, die den Mond betraten, während Michael Collins im Kommandomodul in der Mondumlaufbahn blieb. Nach ihrer Rückkehr wurden sie als Helden gefeiert und von Präsident Richard Nixon im Weißen Haus empfangen. Die Mondlandung war ein bedeutendes Ereignis im Kalten Krieg und ein großer Sieg für die Vereinigten Staaten gegenüber der Sowjetunion.',\n",
       "  'lang': 'de',\n",
       "  'expected_entities': '20. Juli 1969;Apollo-11-Mission;NASA;Mond;Neil Armstrong;Buzz Aldrin;ersten Menschen;Mond;Michael Collins;Mondumlaufbahn;Helden;Präsident;Richard Nixon;Weißen Haus;Mondlandung;Kalten Krieg;Vereinigten Staaten;Sowjetunion',\n",
       "  'aws': {'accuracy': 0.8823529411764706},\n",
       "  'azure': {'accuracy': 0.8235294117647058}},\n",
       " 'keyphrase_extraction': {'text': 'Die Globalisierung bezeichnet den Prozess der verstärkten internationalen Vernetzung in den Bereichen Wirtschaft, Politik, Kultur und Umwelt. Sie führt zu einer erhöhten Mobilität von Gütern, Dienstleistungen, Informationen und Menschen über nationale Grenzen hinweg. Während einige Experten die Vorteile der Globalisierung betonen, wie den Zugang zu neuen Märkten und die Steigerung der wirtschaftlichen Effizienz, weisen andere auf die potenziellen Nachteile hin, wie die Ausbeutung von Arbeitskräften in Entwicklungsländern und den Verlust von kultureller Identität. Es ist unbestreitbar, dass die Globalisierung die Welt in vielerlei Hinsicht verändert hat, sowohl positiv als auch negativ.',\n",
       "  'lang': 'de',\n",
       "  'expected_entities': 'Globalisierung;internationalen Vernetzung;Wirtschaft;Politik;Kultur;Umwelt;Mobilität von Gütern;Dienstleistungen;Informationen;Menschen;nationale Grenzen;Zugang zu neuen Märkten;wirtschaftlichen Effizienz;Ausbeutung von Arbeitskräften;Entwicklungsländer;Verlust von kultureller Identität;Vorteile der Globalisierung;potenziellen Nachteile',\n",
       "  'aws': {'accuracy': 1.0},\n",
       "  'azure': {'accuracy': 0.9444444444444444}},\n",
       " 'sentiment_analysis': {'dataset': 'Sentiment Analysis.csv',\n",
       "  'aws': {'accuracy': 0.62},\n",
       "  'azure': {'accuracy': 0.65}}}"
      ]
     },
     "execution_count": 40,
     "metadata": {},
     "output_type": "execute_result"
    }
   ],
   "source": [
    "# Ergebnisse der Textanalse:\n",
    "results_text"
   ]
  },
  {
   "cell_type": "markdown",
   "id": "584456d4-b896-4122-ae2f-0643b65e41b9",
   "metadata": {},
   "source": [
    "### 3. Bildanalyse<a id='Bildanalyse'></a>"
   ]
  },
  {
   "cell_type": "markdown",
   "id": "2aa147a0-937f-4cb7-90b5-5152ffe0cedb",
   "metadata": {},
   "source": [
    "#### 3.1 DetectFaces<a id='DetectFaces'></a>\n",
    "\n",
    "Ist nicht möglich, da Microsoft die Face-Detection Funktion außer Kraft gesetzt hat:\\\n",
    "https://learn.microsoft.com/de-de/azure/ai-services/computer-vision/overview-identity#face-detection-and-analysis"
   ]
  },
  {
   "cell_type": "markdown",
   "id": "7edacedb-7a14-4e0b-9a39-de35e377f937",
   "metadata": {},
   "source": [
    "#### 3.2 DetectLabels<a id='DetectLabels'></a>"
   ]
  },
  {
   "cell_type": "markdown",
   "id": "f937dffd-1660-48aa-91ff-40e20f9c70a0",
   "metadata": {},
   "source": [
    "##### 3.2.1 DetectLabels - Azure <a id='DLAzure'></a>"
   ]
  },
  {
   "cell_type": "code",
   "execution_count": 41,
   "id": "6265897a-5ac4-42ca-aec1-aa5487408bbe",
   "metadata": {},
   "outputs": [],
   "source": [
    "from azure.cognitiveservices.vision.computervision import ComputerVisionClient\n",
    "\n",
    "# Azure Client initialisieren\n",
    "computervision_client_azure = ComputerVisionClient(azure_endpoint, azure_cognitive_credentials)"
   ]
  },
  {
   "cell_type": "code",
   "execution_count": 42,
   "id": "ea21c37a-49e4-484b-96e7-0b3944b8978f",
   "metadata": {},
   "outputs": [],
   "source": [
    "from azure.cognitiveservices.vision.computervision.models import VisualFeatureTypes\n",
    "\n",
    "# Bild als Stream holen.\n",
    "def get_image_stream(url):\n",
    "    response = requests.get(url)\n",
    "    response.raise_for_status()\n",
    "    return BytesIO(response.content)\n",
    "\n",
    "# Funktion zur Durchführung der Label-Erkennung\n",
    "def detect_labels_azure(image_url):\n",
    "    features = [VisualFeatureTypes.tags]\n",
    "    try:\n",
    "        analysis = computervision_client_azure.analyze_image(image_url, visual_features=features)\n",
    "        return [tag.name for tag in analysis.tags]\n",
    "    except Exception as e:\n",
    "        print(f\"Fehler bei der Label-Erkennung für {image_url}: {e}\")\n",
    "        return []"
   ]
  },
  {
   "cell_type": "code",
   "execution_count": 43,
   "id": "587cfdc9-69f7-45de-80aa-1204664d40a8",
   "metadata": {},
   "outputs": [
    {
     "name": "stdout",
     "output_type": "stream",
     "text": [
      "URL: https://images.squarespace-cdn.com/content/v1/5ccbe9ffca525b6794c6bd70/1633943879332-MHCMM4P3FI5K1OVD0MNN/Fanta-Logo.png?format=2500w, Azure erkannte Labels: ['graphics', 'logo', 'clipart', 'graphic design', 'font', 'design', 'illustration']\n",
      "URL: https://images.squarespace-cdn.com/content/v1/5ccbe9ffca525b6794c6bd70/1633959432109-GJ4LLJB9NCMFD8C6IIDM/Samsung_Logo.png?format=2500w, Azure erkannte Labels: ['font', 'graphics', 'logo', 'electric blue', 'screenshot', 'graphic design', 'text', 'symbol', 'trademark', 'design']\n",
      "URL: https://images.squarespace-cdn.com/content/v1/5ccbe9ffca525b6794c6bd70/1633959377474-QGI8DP4S6IC6ZRY2C2HY/Hyundai-logo.png?format=2500w, Azure erkannte Labels: ['logo', 'symbol', 'text', 'wheel', 'design']\n",
      "URL: https://images.squarespace-cdn.com/content/v1/5ccbe9ffca525b6794c6bd70/1633959317177-HHQJJ5U27Y1TDQLJF20S/Nivea_logo.png?format=2500w, Azure erkannte Labels: ['circle', 'font', 'graphics', 'screenshot', 'logo', 'graphic design', 'electric blue', 'symbol', 'text', 'design']\n",
      "URL: https://images.squarespace-cdn.com/content/v1/5ccbe9ffca525b6794c6bd70/1633959267901-4LTPX0K5CZ7C21304IJK/cadillac.png?format=2500w, Azure erkannte Labels: ['symbol', 'emblem', 'logo', 'graphics', 'trademark', 'font', 'poster', 'flag', 'design']\n"
     ]
    }
   ],
   "source": [
    "# Ergebnisdictionary für Azure\n",
    "result_labels_azure = {}\n",
    "\n",
    "# Durchführen der Label-Erkennung für jedes Bild und Speichern der Ergebnisse in result_labels_azure\n",
    "for image in results_images['DetectLabels']['images']:\n",
    "    labels = detect_labels_azure(image['url'])\n",
    "    # Speichern der erkannten Labels im neuen Dictionary mit der URL als Schlüssel\n",
    "    result_labels_azure[image['url']] = labels\n",
    "    print(f\"URL: {image['url']}, Azure erkannte Labels: {labels}\")"
   ]
  },
  {
   "cell_type": "code",
   "execution_count": 44,
   "id": "7d4cfdb8-ed9d-4997-8409-f981367fe531",
   "metadata": {},
   "outputs": [
    {
     "name": "stdout",
     "output_type": "stream",
     "text": [
      "It's a match: logo in ['graphics', 'logo', 'clipart', 'graphic design', 'font', 'design', 'illustration']\n",
      "It's a match: text in ['font', 'graphics', 'logo', 'electric blue', 'screenshot', 'graphic design', 'text', 'symbol', 'trademark', 'design']\n",
      "It's a match: symbol in ['font', 'graphics', 'logo', 'electric blue', 'screenshot', 'graphic design', 'text', 'symbol', 'trademark', 'design']\n",
      "It's a match: logo in ['font', 'graphics', 'logo', 'electric blue', 'screenshot', 'graphic design', 'text', 'symbol', 'trademark', 'design']\n",
      "It's a match: text in ['logo', 'symbol', 'text', 'wheel', 'design']\n",
      "It's a match: symbol in ['logo', 'symbol', 'text', 'wheel', 'design']\n",
      "It's a match: logo in ['logo', 'symbol', 'text', 'wheel', 'design']\n",
      "It's a match: text in ['circle', 'font', 'graphics', 'screenshot', 'logo', 'graphic design', 'electric blue', 'symbol', 'text', 'design']\n",
      "It's a match: symbol in ['circle', 'font', 'graphics', 'screenshot', 'logo', 'graphic design', 'electric blue', 'symbol', 'text', 'design']\n",
      "It's a match: logo in ['circle', 'font', 'graphics', 'screenshot', 'logo', 'graphic design', 'electric blue', 'symbol', 'text', 'design']\n",
      "It's a match: symbol in ['symbol', 'emblem', 'logo', 'graphics', 'trademark', 'font', 'poster', 'flag', 'design']\n",
      "It's a match: logo in ['symbol', 'emblem', 'logo', 'graphics', 'trademark', 'font', 'poster', 'flag', 'design']\n"
     ]
    }
   ],
   "source": [
    "expected_detected_labels = results_images['DetectLabels']['expected_labels'].split(';')\n",
    "\n",
    "matches = 0\n",
    "# Zählt die richtig erkannten Labels.\n",
    "for image in result_labels_azure:\n",
    "    for expected_label in expected_detected_labels:\n",
    "        if expected_label in result_labels_azure[image]:\n",
    "            matches += 1\n",
    "            print(f\"It's a match: {expected_label} in {result_labels_azure[image]}\")"
   ]
  },
  {
   "cell_type": "code",
   "execution_count": 45,
   "id": "78ec54d8-d289-4c18-8a3b-20976772ca2a",
   "metadata": {},
   "outputs": [
    {
     "name": "stdout",
     "output_type": "stream",
     "text": [
      "Azure eine Übereinstimmung von 80.0 % bei der DetecLabels in Bildern erzielt.\n"
     ]
    }
   ],
   "source": [
    "# Ergebnis ins Dict schreiben\n",
    "matched_result = matches/(len(expected_detected_labels)*len(results_images['DetectLabels']['images']))\n",
    "results_images['DetectLabels']['azure']['accuracy'] = matched_result\n",
    "print (f\"Azure eine Übereinstimmung von {matched_result*100} % bei der DetecLabels in Bildern erzielt.\")"
   ]
  },
  {
   "cell_type": "markdown",
   "id": "f89a9c1b-f500-4bb9-b473-00f68176bf38",
   "metadata": {},
   "source": [
    "##### 3.2.2 DetectLabels - AWS <a id='DLAWS'></a>"
   ]
  },
  {
   "cell_type": "code",
   "execution_count": 46,
   "id": "0e1fac15-1a0b-4c4b-bf83-2212af9f7d38",
   "metadata": {},
   "outputs": [],
   "source": [
    "# AWS-Client erstellen\n",
    "rekognition_client_aws = boto3.client(\n",
    "    service_name='rekognition',\n",
    "    aws_access_key_id=AWS_ACCESS_KEY_ID,\n",
    "    aws_secret_access_key=AWS_SECRET_ACCESS_KEY,\n",
    "    region_name=AWS_REGION\n",
    ")"
   ]
  },
  {
   "cell_type": "code",
   "execution_count": 47,
   "id": "e4cab850-cdc5-4dd3-92f9-e7fdaf6d89c8",
   "metadata": {},
   "outputs": [],
   "source": [
    "import requests\n",
    "import io\n",
    "\n",
    "# Funktion zur Umwandlung der Bildurl in ein image-bytes (für aws notwendig)\n",
    "def get_image_bytes(url):\n",
    "    response = requests.get(url)\n",
    "    response.raise_for_status()  # Stellt sicher, dass die Anfrage erfolgreich war\n",
    "    return io.BytesIO(response.content).read()\n",
    "\n",
    "# Ähnliche Funktion zur Label Erkennung wie bereits bei Azure angewendet:\n",
    "def detect_labels_aws(image_bytes):\n",
    "    try:\n",
    "        response = rekognition_client_aws.detect_labels(Image={'Bytes': image_bytes})\n",
    "        return [label['Name'] for label in response['Labels']]\n",
    "    except Exception as e:\n",
    "        print(f\"Fehler bei der Label-Erkennung: {e}\")\n",
    "        return []"
   ]
  },
  {
   "cell_type": "code",
   "execution_count": 48,
   "id": "3f289459-529c-4c00-be0a-4301c53466d6",
   "metadata": {},
   "outputs": [
    {
     "name": "stdout",
     "output_type": "stream",
     "text": [
      "URL: https://images.squarespace-cdn.com/content/v1/5ccbe9ffca525b6794c6bd70/1633943879332-MHCMM4P3FI5K1OVD0MNN/Fanta-Logo.png?format=2500w, Azure erkannte Labels: ['Logo', 'Sticker', 'Body Part', 'Hand', 'Person', 'Art', 'Cleaning', 'Food', 'Sweets', 'Dynamite', 'Weapon']\n",
      "URL: https://images.squarespace-cdn.com/content/v1/5ccbe9ffca525b6794c6bd70/1633959432109-GJ4LLJB9NCMFD8C6IIDM/Samsung_Logo.png?format=2500w, Azure erkannte Labels: ['Logo', 'Text', 'Outdoors', 'Blackboard', 'Oval', 'Nature', 'Sea', 'Water', 'Computer Hardware', 'Electronics', 'Hardware']\n",
      "URL: https://images.squarespace-cdn.com/content/v1/5ccbe9ffca525b6794c6bd70/1633959377474-QGI8DP4S6IC6ZRY2C2HY/Hyundai-logo.png?format=2500w, Azure erkannte Labels: ['Logo', 'Symbol', 'Emblem', 'Machine', 'Wheel', 'Car', 'Limo', 'Transportation', 'Vehicle', 'Accessories', 'Badge']\n",
      "URL: https://images.squarespace-cdn.com/content/v1/5ccbe9ffca525b6794c6bd70/1633959317177-HHQJJ5U27Y1TDQLJF20S/Nivea_logo.png?format=2500w, Azure erkannte Labels: ['Logo', 'Disk', 'Badge', 'Symbol']\n",
      "URL: https://images.squarespace-cdn.com/content/v1/5ccbe9ffca525b6794c6bd70/1633959267901-4LTPX0K5CZ7C21304IJK/cadillac.png?format=2500w, Azure erkannte Labels: ['Emblem', 'Symbol', 'Logo', 'Armor', 'Shield', 'Badge']\n"
     ]
    }
   ],
   "source": [
    "# Ergebnisdictionary für aws\n",
    "result_labels_aws = {}\n",
    "\n",
    "# Führe die Label-Erkennung für jedes Image nacheinander aus:\n",
    "for image in results_images[\"DetectLabels\"][\"images\"]:\n",
    "    image_bytes = get_image_bytes(image[\"url\"])\n",
    "    labels = detect_labels_aws(image_bytes)\n",
    "    \n",
    "    # Speichern der erkannten Labels im neuen Dictionary mit der URL als Schlüssel\n",
    "    result_labels_aws[image['url']] = labels\n",
    "    print(f\"URL: {image['url']}, Azure erkannte Labels: {labels}\")"
   ]
  },
  {
   "cell_type": "code",
   "execution_count": 49,
   "id": "8b2f527c-d119-4adc-b538-89a01901ceff",
   "metadata": {},
   "outputs": [
    {
     "name": "stdout",
     "output_type": "stream",
     "text": [
      "It's a match: logo in ['graphics', 'logo', 'clipart', 'graphic design', 'font', 'design', 'illustration']\n",
      "It's a match: text in ['font', 'graphics', 'logo', 'electric blue', 'screenshot', 'graphic design', 'text', 'symbol', 'trademark', 'design']\n",
      "It's a match: symbol in ['font', 'graphics', 'logo', 'electric blue', 'screenshot', 'graphic design', 'text', 'symbol', 'trademark', 'design']\n",
      "It's a match: logo in ['font', 'graphics', 'logo', 'electric blue', 'screenshot', 'graphic design', 'text', 'symbol', 'trademark', 'design']\n",
      "It's a match: text in ['logo', 'symbol', 'text', 'wheel', 'design']\n",
      "It's a match: symbol in ['logo', 'symbol', 'text', 'wheel', 'design']\n",
      "It's a match: logo in ['logo', 'symbol', 'text', 'wheel', 'design']\n",
      "It's a match: text in ['circle', 'font', 'graphics', 'screenshot', 'logo', 'graphic design', 'electric blue', 'symbol', 'text', 'design']\n",
      "It's a match: symbol in ['circle', 'font', 'graphics', 'screenshot', 'logo', 'graphic design', 'electric blue', 'symbol', 'text', 'design']\n",
      "It's a match: logo in ['circle', 'font', 'graphics', 'screenshot', 'logo', 'graphic design', 'electric blue', 'symbol', 'text', 'design']\n",
      "It's a match: symbol in ['symbol', 'emblem', 'logo', 'graphics', 'trademark', 'font', 'poster', 'flag', 'design']\n",
      "It's a match: logo in ['symbol', 'emblem', 'logo', 'graphics', 'trademark', 'font', 'poster', 'flag', 'design']\n"
     ]
    }
   ],
   "source": [
    "matches = 0\n",
    "\n",
    "# Zählt die Übereinstimmungen bei den Labels.\n",
    "for image in result_labels_azure:\n",
    "    for expected_label in expected_detected_labels:\n",
    "        for result_label in result_labels_azure[image]:\n",
    "            if expected_label.lower() == result_label.lower():\n",
    "                matches += 1\n",
    "                print(f\"It's a match: {expected_label} in {result_labels_azure[image]}\")"
   ]
  },
  {
   "cell_type": "code",
   "execution_count": 50,
   "id": "e699b5e7-b0a0-4b4a-8a68-c26dcbcf18be",
   "metadata": {},
   "outputs": [
    {
     "name": "stdout",
     "output_type": "stream",
     "text": [
      "aws eine Übereinstimmung von 80.0 % bei der DetecLabels in Bildern erzielt.\n"
     ]
    }
   ],
   "source": [
    "# Ergebnis ins Dictationry schreiben:\n",
    "matched_result = matches/(len(expected_detected_labels)*len(results_images['DetectLabels']['images']))\n",
    "results_images['DetectLabels']['aws']['accuracy'] = matched_result\n",
    "print (f\"aws eine Übereinstimmung von {matched_result*100} % bei der DetecLabels in Bildern erzielt.\")"
   ]
  },
  {
   "cell_type": "markdown",
   "id": "5d84958e-8f93-4269-ba23-4977745308a9",
   "metadata": {},
   "source": [
    "#### 3.3 DetectText<a id='DetectText'></a>"
   ]
  },
  {
   "cell_type": "markdown",
   "id": "8676f2ab-3aa9-4616-b720-00058752fdde",
   "metadata": {},
   "source": [
    "##### 3.3.1 DetectText - Azure <a id='DTAzure'></a>"
   ]
  },
  {
   "cell_type": "code",
   "execution_count": 51,
   "id": "2af926df-6f6a-47ac-a181-2e4714a7f8cf",
   "metadata": {},
   "outputs": [],
   "source": [
    "import time\n",
    "\n",
    "# Funktion zum Starten des Lesevorgangs und Extrahieren des Textes\n",
    "def extract_text_from_image(url):\n",
    "    # Starten des asynchronen Lesevorgangs\n",
    "    read_response = computervision_client_azure.read(url, raw=True)\n",
    "    \n",
    "    # Abrufen der URL für den asynchronen Status\n",
    "    read_operation_location = read_response.headers[\"Operation-Location\"]\n",
    "    \n",
    "    # Extrahieren der Operation-ID für den Statusabfrage\n",
    "    operation_id = read_operation_location.split(\"/\")[-1]\n",
    "    \n",
    "    # Warten auf den Abschluss des Lesevorgangs\n",
    "    while True:\n",
    "        read_result = computervision_client_azure.get_read_result(operation_id)\n",
    "        if read_result.status.lower() not in ['notstarted', 'running']:\n",
    "            break\n",
    "        print('Warten auf das Ergebnis...')\n",
    "        time.sleep(1)\n",
    "\n",
    "    # Extrahieren und Zusammenstellen des Textes aus dem Leseergebnis\n",
    "    text_results = []\n",
    "    if read_result.status == 'succeeded':\n",
    "        for text_result in read_result.analyze_result.read_results:\n",
    "            for line in text_result.lines:\n",
    "                text_results.append(line.text)\n",
    "    return text_results"
   ]
  },
  {
   "cell_type": "code",
   "execution_count": 52,
   "id": "27fd1d48-0595-4a11-b518-a03283a637f1",
   "metadata": {},
   "outputs": [
    {
     "name": "stdout",
     "output_type": "stream",
     "text": [
      "Warten auf das Ergebnis...\n",
      "URL: https://images.squarespace-cdn.com/content/v1/5ccbe9ffca525b6794c6bd70/1633943879332-MHCMM4P3FI5K1OVD0MNN/Fanta-Logo.png?format=2500w, Azure erkannter Text: []\n",
      "Warten auf das Ergebnis...\n",
      "URL: https://images.squarespace-cdn.com/content/v1/5ccbe9ffca525b6794c6bd70/1633959432109-GJ4LLJB9NCMFD8C6IIDM/Samsung_Logo.png?format=2500w, Azure erkannter Text: ['SAMSUNG']\n",
      "Warten auf das Ergebnis...\n",
      "URL: https://images.squarespace-cdn.com/content/v1/5ccbe9ffca525b6794c6bd70/1633959377474-QGI8DP4S6IC6ZRY2C2HY/Hyundai-logo.png?format=2500w, Azure erkannter Text: ['HY', 'L', 'InDAI']\n",
      "Warten auf das Ergebnis...\n",
      "URL: https://images.squarespace-cdn.com/content/v1/5ccbe9ffca525b6794c6bd70/1633959317177-HHQJJ5U27Y1TDQLJF20S/Nivea_logo.png?format=2500w, Azure erkannter Text: ['NIVEA']\n",
      "Warten auf das Ergebnis...\n",
      "URL: https://images.squarespace-cdn.com/content/v1/5ccbe9ffca525b6794c6bd70/1633959267901-4LTPX0K5CZ7C21304IJK/cadillac.png?format=2500w, Azure erkannter Text: ['Cadillac', 'R']\n"
     ]
    }
   ],
   "source": [
    "#Ergebnis-dictionary\n",
    "result_texts_azure = {}\n",
    "\n",
    "# Durchführen der Textextraktion für jedes Bild und Speichern der Ergebnisse\n",
    "for image in results_images['DetectText']['images']:\n",
    "    extracted_text = extract_text_from_image(image['url'])\n",
    "    image[\"azure_detected_text\"] = extracted_text\n",
    "    \n",
    "    # Speichern der erkannten Texte im neuen Dictionary mit der URL als Schlüssel. Konkateniert, da wir lediglich einen Text erwarten.\n",
    "    result_texts_azure[image['url']] = ''.join(extracted_text)\n",
    "    print(f\"URL: {image['url']}, Azure erkannter Text: {extracted_text}\")"
   ]
  },
  {
   "cell_type": "code",
   "execution_count": 53,
   "id": "0ac2b525-37b6-4c89-afec-79618d8cc050",
   "metadata": {},
   "outputs": [
    {
     "name": "stdout",
     "output_type": "stream",
     "text": [
      "It's a match: samsung in SAMSUNG\n",
      "It's a match: nivea in NIVEA\n",
      "It's a match: cadillac in CadillacR\n"
     ]
    }
   ],
   "source": [
    "matches = 0\n",
    "\n",
    "# Zählt die Übereinstimmungen bei den Texten aus den Logos.\n",
    "for image in result_texts_azure:\n",
    "    for image_entry in results_images['DetectText']['images']:\n",
    "        if image_entry['url'] == image:\n",
    "            expected_text = image_entry.get('label', \"Text not found\")\n",
    "            break\n",
    "            \n",
    "    detected_text = result_texts_azure[image]\n",
    "    if expected_text.lower() in detected_text.lower():\n",
    "        matches += 1\n",
    "        print(f\"It's a match: {expected_text} in {result_texts_azure[image]}\")"
   ]
  },
  {
   "cell_type": "code",
   "execution_count": 54,
   "id": "841ea37f-5ba3-4115-a150-48bcefab7bc9",
   "metadata": {},
   "outputs": [
    {
     "name": "stdout",
     "output_type": "stream",
     "text": [
      "aws hat eine Übereinstimmung von 60.0 % bei der DetectText in Bildern erzielt.\n"
     ]
    }
   ],
   "source": [
    "# Schreiben des Ergebnisses\n",
    "matched_result = matches/len(results_images['DetectText']['images'])\n",
    "results_images['DetectText']['aws']['accuracy'] = matched_result\n",
    "print (f\"aws hat eine Übereinstimmung von {matched_result*100} % bei der DetectText in Bildern erzielt.\")"
   ]
  },
  {
   "cell_type": "markdown",
   "id": "ef104ec4-3824-435f-8fe8-1ec13136030d",
   "metadata": {},
   "source": [
    "##### 3.3.2 DetectText - AWS <a id='DTAWS'></a>"
   ]
  },
  {
   "cell_type": "code",
   "execution_count": 55,
   "id": "3d25377f-dfd2-4bb3-b525-ff58320b0868",
   "metadata": {},
   "outputs": [],
   "source": [
    "def detect_text_aws(image_bytes):\n",
    "    try:\n",
    "        response = rekognition_client_aws.detect_text(Image={'Bytes': image_bytes})\n",
    "        text_detections = response['TextDetections']\n",
    "        detected_texts = [text['DetectedText'] for text in text_detections if text['Type'] == 'LINE']\n",
    "        return detected_texts\n",
    "    except Exception as e:\n",
    "        print(f\"Fehler bei der Texterkennung: {e}\")\n",
    "        return []"
   ]
  },
  {
   "cell_type": "code",
   "execution_count": 56,
   "id": "daee27c9-952c-4145-a898-d2523c1c94a6",
   "metadata": {},
   "outputs": [
    {
     "name": "stdout",
     "output_type": "stream",
     "text": [
      "URL: https://images.squarespace-cdn.com/content/v1/5ccbe9ffca525b6794c6bd70/1633943879332-MHCMM4P3FI5K1OVD0MNN/Fanta-Logo.png?format=2500w, AWS erkannter Text: ['®']\n",
      "URL: https://images.squarespace-cdn.com/content/v1/5ccbe9ffca525b6794c6bd70/1633959432109-GJ4LLJB9NCMFD8C6IIDM/Samsung_Logo.png?format=2500w, AWS erkannter Text: ['SAM', 'SUNG']\n",
      "URL: https://images.squarespace-cdn.com/content/v1/5ccbe9ffca525b6794c6bd70/1633959377474-QGI8DP4S6IC6ZRY2C2HY/Hyundai-logo.png?format=2500w, AWS erkannter Text: ['HYUI', 'n DAI']\n",
      "URL: https://images.squarespace-cdn.com/content/v1/5ccbe9ffca525b6794c6bd70/1633959317177-HHQJJ5U27Y1TDQLJF20S/Nivea_logo.png?format=2500w, AWS erkannter Text: ['NIVEA']\n",
      "URL: https://images.squarespace-cdn.com/content/v1/5ccbe9ffca525b6794c6bd70/1633959267901-4LTPX0K5CZ7C21304IJK/cadillac.png?format=2500w, AWS erkannter Text: []\n"
     ]
    }
   ],
   "source": [
    "#Ergebnis-dictionary\n",
    "result_texts_aws = {}\n",
    "\n",
    "# Durchführen der Texterkennung für jedes Bild und Speichern der Ergebnisse\n",
    "for image in results_images[\"DetectText\"][\"images\"]:\n",
    "    image_bytes = get_image_bytes(image[\"url\"])\n",
    "    detected_texts = detect_text_aws(image_bytes)\n",
    "    \n",
    "    # Speichern der erkannten Texte im neuen Dictionary mit der URL als Schlüssel. Konkateniert, da wir lediglich einen Text erwarten.\n",
    "    result_texts_aws[image['url']] = ''.join(detected_texts)\n",
    "    print(f\"URL: {image['url']}, AWS erkannter Text: {detected_texts}\")"
   ]
  },
  {
   "cell_type": "code",
   "execution_count": 57,
   "id": "6b80a9be-be73-406d-a84a-d53fb034a479",
   "metadata": {},
   "outputs": [
    {
     "name": "stdout",
     "output_type": "stream",
     "text": [
      "It's a match: samsung in SAMSUNG\n",
      "It's a match: nivea in NIVEA\n"
     ]
    }
   ],
   "source": [
    "# Zählt die Übereinstimmungen bei den Texten aus den Logos.\n",
    "matches = 0\n",
    "\n",
    "for image in result_texts_aws:\n",
    "    for image_entry in results_images['DetectText']['images']:\n",
    "        if image_entry['url'] == image:\n",
    "            expected_text = image_entry.get('label', \"Text not found\")\n",
    "            break\n",
    "            \n",
    "    detected_text = result_texts_aws[image]\n",
    "    if expected_text.lower() in detected_text.lower():\n",
    "        matches += 1\n",
    "        print(f\"It's a match: {expected_text} in {result_texts_aws[image]}\")"
   ]
  },
  {
   "cell_type": "code",
   "execution_count": 58,
   "id": "b3ab100d-b4f9-41a9-ac4d-598c4cbf2d7c",
   "metadata": {},
   "outputs": [
    {
     "name": "stdout",
     "output_type": "stream",
     "text": [
      "Azure hat eine Übereinstimmung von 40.0 % bei der DetectText in Bildern erzielt.\n"
     ]
    }
   ],
   "source": [
    "# Ergebnis ins Dictionary schreiben\n",
    "matched_result = matches/len(results_images['DetectText']['images'])\n",
    "results_images['DetectText']['azure']['accuracy'] = matched_result\n",
    "print (f\"Azure hat eine Übereinstimmung von {matched_result*100} % bei der DetectText in Bildern erzielt.\")"
   ]
  },
  {
   "cell_type": "markdown",
   "id": "e6d79a3a-5953-45cd-8804-d4cc634c5c17",
   "metadata": {},
   "source": [
    "#### 3.4 RecognizeCelebrities<a id='RecognizeCelebrities'></a>\n",
    "\n",
    "Vergleich zwischen aws und Azure nicht möglich: ComputerVisionErrorResponseException: (InvalidRequest) Feature is not supported. Please apply for access at https://aka.ms/celebrityrecognition"
   ]
  },
  {
   "cell_type": "code",
   "execution_count": null,
   "id": "59ba7142-b9d4-4581-890f-2a1cb4e96747",
   "metadata": {},
   "outputs": [],
   "source": [
    "# Ergebnisse der Cognitiven Services, die getestet werden konnten mit ihrer Genauigkeit pro CloudPlattform:\n",
    "results_images"
   ]
  },
  {
   "cell_type": "markdown",
   "id": "0ed4e722-c015-4979-9f6b-89c23eba2c76",
   "metadata": {},
   "source": [
    "### 4. Zusammenfassung der Tests <a id='Zusammenfassung'></a>"
   ]
  },
  {
   "cell_type": "markdown",
   "id": "066fc799-91ea-4f6c-851c-d04069a9b5d7",
   "metadata": {},
   "source": [
    "#### 4.1 Gegenüberstellung Textanalysen <a id='GGText'></a>"
   ]
  },
  {
   "cell_type": "code",
   "execution_count": 67,
   "id": "414e9a4f-1c5e-4a57-9c9e-aef6558de285",
   "metadata": {},
   "outputs": [],
   "source": [
    "import matplotlib.pyplot as plt\n",
    "\n",
    "# Funktion für die Darstellung der Accuracy Werte von aws und Azure\n",
    "def print_diagram(result_dict, categories):\n",
    "    # Daten werden aus dem dictionary gelesen:\n",
    "    aws_accuracies = []\n",
    "    azure_accuracies = []\n",
    "    for category in categories:\n",
    "        results = result_dict[category]\n",
    "        aws_accuracies.append(results['aws'].get('accuracy'))\n",
    "        azure_accuracies.append(results['azure'].get('accuracy'))\n",
    "\n",
    "    print(aws_accuracies)\n",
    "    print(azure_accuracies)\n",
    "    # Balkendiagramm erstelleN:\n",
    "    fig, ax = plt.subplots()\n",
    "    bar_width = 0.45\n",
    "    index = range(len(categories))\n",
    "    bar1 = ax.bar(index, aws_accuracies, bar_width, label='AWS')\n",
    "    bar2 = ax.bar([i + bar_width for i in index], azure_accuracies, bar_width, label='Azure')\n",
    "    \n",
    "    # Setzen von Labels und Ticks:\n",
    "    ax.set_xlabel('Kategorien')\n",
    "    ax.set_ylabel('Accuracy (%)')\n",
    "    ax.set_title('Accuracy Vergleich zwischen AWS und Azure')\n",
    "    ax.set_xticks([i + bar_width / 2 for i in index])\n",
    "    ax.set_xticklabels(categories, rotation=45)\n",
    "    \n",
    "    #Legende\n",
    "    ax.legend()\n",
    "    \n",
    "    # Diagramm anzeigen:\n",
    "    plt.show()"
   ]
  },
  {
   "cell_type": "code",
   "execution_count": 60,
   "id": "274a2edd-8dcb-46d3-ae36-c72a1fdf0d05",
   "metadata": {},
   "outputs": [
    {
     "data": {
      "image/png": "[encoded data removed]",
      "text/plain": [
       "<Figure size 640x480 with 1 Axes>"
      ]
     },
     "metadata": {},
     "output_type": "display_data"
    }
   ],
   "source": [
    "# Diagramm über die Genauigkeit von Azure und aws in der Gegenüberstellung - Text Analysen:\n",
    "# Zunächst die Kategorien festlegen:\n",
    "categories = ['language_detection', 'entity_detection', 'keyphrase_extraction', 'sentiment_analysis']\n",
    "# Balkendiagram ausgeben:\n",
    "print_diagram(results_text, categories)"
   ]
  },
  {
   "cell_type": "markdown",
   "id": "2b741a8f-c3fb-45d2-b830-893b67d09c8c",
   "metadata": {},
   "source": [
    "Bei der Textanalyse sieht man einige Unterschiede bei den Genauigkeiten beider Cloud Plattformen. Manchmal ist aws besser, manchmal jedoch Azure. Je nach Festlegung der Testdaten, zum Beispiel bei der Entitydetection und der Schlüsselphrasenerkennung können auch hier die Ergebnisse unterschiedlich ausfallen. Je nachdem was man als Entity bzw. Schlüsselphrase festlegt. Was quantitativ und qualitativ jedoch gut vergleichbar ist sind die Werte bei der Spracherkennung und der Sentimentanalyse. Hier wurden jeweils 200 Datensätze analysiert. Bei beiden hat Azure leicht die Nase vorn."
   ]
  },
  {
   "cell_type": "markdown",
   "id": "f6678c3d-5db0-471b-866b-0cb3aa17c9c1",
   "metadata": {},
   "source": [
    "#### 4.2 Gegenüberstellung Bildanalysen <a id='GGImage'></a>"
   ]
  },
  {
   "cell_type": "code",
   "execution_count": 68,
   "id": "13150d44-c6eb-4b60-b552-6206423eadba",
   "metadata": {},
   "outputs": [
    {
     "name": "stdout",
     "output_type": "stream",
     "text": [
      "[0.8, 0.6]\n",
      "[0.8, 0.4]\n"
     ]
    },
    {
     "data": {
      "image/png": "[encoded data removed]",
      "text/plain": [
       "<Figure size 640x480 with 1 Axes>"
      ]
     },
     "metadata": {},
     "output_type": "display_data"
    }
   ],
   "source": [
    "# Diagramm über die Genauigkeit von Azure und aws in der Gegenüberstellung - Image Analysen:\n",
    "# Zunächst die Kategorien festlegen:\n",
    "categories = ['DetectLabels', 'DetectText']\n",
    "# Balkendiagram ausgeben:\n",
    "print_diagram(results_images, categories)"
   ]
  },
  {
   "cell_type": "markdown",
   "id": "cc9105e6-0266-4715-ab3b-0a75cbb47887",
   "metadata": {},
   "source": [
    "Zusammenfassend kann man für die Analyse von Bildern bei dieser Größe des Vergleichs (max. 5 Bilder) nicht aussagekräftig sagen, welche Cloud Plattform besser abschneidet. Hier würden mehr Daten benötigt werden. Dies wurde im Rahmen dieser Arbeit nicht umgesetzt, da die Kosten sonst zu hoch wären. \n",
    "\n",
    "Dennoch kann man festhalten, dass die Genauigkeiten bei den Image-Analysen deutlich geringer ausfallen als noch bei der Textanalse. "
   ]
  }
 ],
 "metadata": {
  "kernelspec": {
   "display_name": "Python 3 (ipykernel)",
   "language": "python",
   "name": "python3"
  },
  "language_info": {
   "codemirror_mode": {
    "name": "ipython",
    "version": 3
   },
   "file_extension": ".py",
   "mimetype": "text/x-python",
   "name": "python",
   "nbconvert_exporter": "python",
   "pygments_lexer": "ipython3",
   "version": "3.8.17"
  }
 },
 "nbformat": 4,
 "nbformat_minor": 5
}
